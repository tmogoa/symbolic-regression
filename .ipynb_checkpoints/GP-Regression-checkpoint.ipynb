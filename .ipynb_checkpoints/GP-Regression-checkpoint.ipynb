{
 "cells": [
  {
   "cell_type": "markdown",
   "id": "78108984-15cf-4cd1-ab9e-9e6c03d3f257",
   "metadata": {
    "jp-MarkdownHeadingCollapsed": true
   },
   "source": [
    "# Definition"
   ]
  },
  {
   "cell_type": "markdown",
   "id": "513a3149-aac9-4c00-a33b-1077963a98e7",
   "metadata": {
    "jp-MarkdownHeadingCollapsed": true
   },
   "source": [
    "## Imports and Boilerplate"
   ]
  },
  {
   "cell_type": "code",
   "execution_count": 26,
   "id": "e6ee8cfb-4dd3-455f-ad13-d01922289930",
   "metadata": {},
   "outputs": [],
   "source": [
    "import os\n",
    "import subprocess\n",
    "import random\n",
    "from collections.abc import Callable\n",
    "from functools import reduce\n",
    "import pandas as pd\n",
    "import numpy as np"
   ]
  },
  {
   "cell_type": "code",
   "execution_count": 24,
   "id": "d8828e53-b477-4d65-a2e5-1a509383f128",
   "metadata": {},
   "outputs": [],
   "source": [
    "%matplotlib inline"
   ]
  },
  {
   "cell_type": "markdown",
   "id": "8e1d4200-440b-49b0-8e59-f49c6164ba45",
   "metadata": {},
   "source": [
    "## Seeding random numbers"
   ]
  },
  {
   "cell_type": "code",
   "execution_count": 2,
   "id": "b9d36336-28bc-400d-8504-0934feb9734c",
   "metadata": {},
   "outputs": [],
   "source": [
    "random.seed(257)"
   ]
  },
  {
   "cell_type": "markdown",
   "id": "9fb412e5-200b-4479-82c4-5b0f3fd22314",
   "metadata": {
    "jp-MarkdownHeadingCollapsed": true
   },
   "source": [
    "## Primitive, Terminal and Func classes"
   ]
  },
  {
   "cell_type": "code",
   "execution_count": 3,
   "id": "9595b602-b885-46c4-902d-8b07ab02a57d",
   "metadata": {},
   "outputs": [],
   "source": [
    "class Primitive():\n",
    "    def __init__(self, symbol: str, arity: int = 0):\n",
    "        self.symbol = symbol\n",
    "        \n",
    "    def print():\n",
    "        print(self.symbol)"
   ]
  },
  {
   "cell_type": "code",
   "execution_count": 4,
   "id": "947de980-71df-4aa1-988b-6e2794785768",
   "metadata": {},
   "outputs": [],
   "source": [
    "class Terminal(Primitive):\n",
    "    def __init__(self, symbol: str, arity: int = 0):\n",
    "        self.symbol = symbol"
   ]
  },
  {
   "cell_type": "code",
   "execution_count": 6,
   "id": "643d63a7-5380-4bec-bd6d-84eb27703d8f",
   "metadata": {},
   "outputs": [],
   "source": [
    "class Func(Primitive):\n",
    "    def __init__(self, symbol: str, arity: int, func: Callable[..., ...]):\n",
    "        self.symbol = symbol\n",
    "        self.arity = arity\n",
    "        \n",
    "    def exec(self, *args):\n",
    "        return func(*args)"
   ]
  },
  {
   "cell_type": "markdown",
   "id": "4098bbfd-eba7-46cf-af0b-d365e8a04549",
   "metadata": {
    "jp-MarkdownHeadingCollapsed": true
   },
   "source": [
    "## Node and Leaf classes"
   ]
  },
  {
   "cell_type": "code",
   "execution_count": 12,
   "id": "3acbc5d1-f214-4dd1-99b0-5ffe792d3eab",
   "metadata": {},
   "outputs": [],
   "source": [
    "class Node():\n",
    "    def __init__(self, data: Primitive = None, *children):\n",
    "        self.children = list(children)\n",
    "        self.data = data\n",
    "\n",
    "    def add_children(self, *children):\n",
    "        if self.full(): raise Exception('Node is full')\n",
    "        self.children.extend(children)\n",
    "\n",
    "    def set_data(self, data):\n",
    "        self.data = data\n",
    "\n",
    "    def max_children(self):\n",
    "        return self.data.arity\n",
    "\n",
    "    def full(self):\n",
    "        return self.max_children() == self.degree()\n",
    "\n",
    "    def depth(self):\n",
    "        if not len(self.children): return 0\n",
    "        \n",
    "        return 1 + max(child.depth() for child in self.children)\n",
    "        \n",
    "    def degree(self):\n",
    "        return len(self.children)\n",
    "        \n",
    "    def print(self, depth = 0):\n",
    "        print(f\"{self.data.symbol} (\", end = '')\n",
    "        \n",
    "        for i, child in enumerate(self.children):\n",
    "            print(f\"\\n{(depth + 1) * '\\t'}\", end = '')\n",
    "            child.print(depth + 1)\n",
    "            if i < self.degree() - 1: print(',', end = '')\n",
    "        print(f\"\\n{depth * '\\t'})\", end = '')\n",
    "        "
   ]
  },
  {
   "cell_type": "code",
   "execution_count": 13,
   "id": "a2b3ff9d-95b4-4afb-b60c-e80ceeddba82",
   "metadata": {},
   "outputs": [],
   "source": [
    "class Leaf(Node):\n",
    "    def __init__(self, data: Primitive):\n",
    "        self.data = data\n",
    "\n",
    "    def depth(self):\n",
    "        return 0;\n",
    "\n",
    "    def max_children(self):\n",
    "        return 0;\n",
    "\n",
    "    def print(self, depth = 0):\n",
    "        print(self.data.symbol, end = '')        "
   ]
  },
  {
   "cell_type": "markdown",
   "id": "7c963beb-3144-4840-8dea-7d44305faa14",
   "metadata": {},
   "source": [
    "## Initial Population Generation"
   ]
  },
  {
   "cell_type": "code",
   "execution_count": 15,
   "id": "0c49540b-11de-43e6-befc-9ae3e68d060a",
   "metadata": {},
   "outputs": [],
   "source": [
    "def grow(node: Node, depth: int = 1, max_depth = MAX_DEPTH):\n",
    "    TERMINAL = 0;\n",
    "    FUNCTION = 1;\n",
    "    \n",
    "    primitive = random.choice([0,1])\n",
    "\n",
    "    if node.full(): return\n",
    "\n",
    "    if(primitive == TERMINAL or depth >= max_depth):\n",
    "        child = Leaf(random.choice(terminal_set))\n",
    "        node.add_children(child)\n",
    "        if not node.full():\n",
    "            grow(node, depth, max_depth)\n",
    "    \n",
    "    if(primitive == FUNCTION and depth < max_depth):\n",
    "        child = Node(random.choice(function_set))\n",
    "        node.add_children(child)\n",
    "        grow(child, depth + 1, max_depth)\n",
    "        if not node.full():\n",
    "            grow(node, depth, max_depth)"
   ]
  },
  {
   "cell_type": "code",
   "execution_count": 16,
   "id": "4124ca28-ee8e-4191-ba00-dde2486c4001",
   "metadata": {},
   "outputs": [],
   "source": [
    "def init_population(size = POPULATION_SIZE, method = 'grow') -> [Node]:\n",
    "    population = []\n",
    "\n",
    "    for i in range(size):\n",
    "        individual = Node(random.choice(function_set))\n",
    "        match method:\n",
    "            case 'grow':\n",
    "                grow(individual)\n",
    "                population.append(individual)\n",
    "            case _:\n",
    "                pass\n",
    "    return population"
   ]
  },
  {
   "cell_type": "markdown",
   "id": "fc26ae39-9d60-4723-aa95-9dd7731bdde3",
   "metadata": {},
   "source": [
    "# Execution"
   ]
  },
  {
   "cell_type": "markdown",
   "id": "03a4e2b3-80d5-4e00-a626-f95f77c66516",
   "metadata": {
    "jp-MarkdownHeadingCollapsed": true
   },
   "source": [
    "## Hyper-params"
   ]
  },
  {
   "cell_type": "code",
   "execution_count": 14,
   "id": "edfaac03-1812-409b-8a24-0ae98f24f518",
   "metadata": {},
   "outputs": [],
   "source": [
    "POPULATION_SIZE = 50\n",
    "MAX_DEPTH = 3;"
   ]
  },
  {
   "cell_type": "markdown",
   "id": "988b32e2-97fc-4650-b86e-769d7c4419eb",
   "metadata": {
    "jp-MarkdownHeadingCollapsed": true
   },
   "source": [
    "## Primitive Sets"
   ]
  },
  {
   "cell_type": "code",
   "execution_count": 5,
   "id": "4ae8ab6e-4dc8-4708-8688-e043b3e1f817",
   "metadata": {},
   "outputs": [],
   "source": [
    "terminal_set = [Terminal('x')]"
   ]
  },
  {
   "cell_type": "code",
   "execution_count": 7,
   "id": "f1972c51-9228-4121-af1f-7a2a87814a6b",
   "metadata": {},
   "outputs": [],
   "source": [
    "def add(*args): return sum(args)"
   ]
  },
  {
   "cell_type": "code",
   "execution_count": 8,
   "id": "62c2ef9f-2c31-4d4b-81fe-04b7d8357eab",
   "metadata": {},
   "outputs": [],
   "source": [
    "def minus(minuend, subtrahend): return minuend - subtrahend"
   ]
  },
  {
   "cell_type": "code",
   "execution_count": 9,
   "id": "b0355eaa-e649-49b5-a939-e8e9589ff32d",
   "metadata": {},
   "outputs": [],
   "source": [
    "def mul(*args): return reduce(lambda x, y: x * y, args)"
   ]
  },
  {
   "cell_type": "code",
   "execution_count": 10,
   "id": "3f9f0072-4b7e-47a0-9014-4368b094860b",
   "metadata": {},
   "outputs": [],
   "source": [
    "def div(num, den): return 1 if den == 0 else num / den"
   ]
  },
  {
   "cell_type": "code",
   "execution_count": 11,
   "id": "5345cc19-d16a-4c3f-810a-c23d14dfde31",
   "metadata": {},
   "outputs": [],
   "source": [
    "function_set = [\n",
    "    Func('+', 2, add), \n",
    "    Func('-', 2, minus), \n",
    "    Func('*', 2, mul), \n",
    "    Func('/', 2, div)]"
   ]
  },
  {
   "cell_type": "markdown",
   "id": "5b4d6913-dc7f-4ced-b504-ab519299a188",
   "metadata": {},
   "source": [
    "## Init Population"
   ]
  },
  {
   "cell_type": "code",
   "execution_count": 17,
   "id": "37aa16d9-f874-424e-9298-8d48bcad5856",
   "metadata": {},
   "outputs": [],
   "source": [
    "pop = init_population()"
   ]
  },
  {
   "cell_type": "markdown",
   "id": "495e1b2a-d553-41e8-8843-8e60a86cca2b",
   "metadata": {},
   "source": [
    "## Fitness Cases (Dataset)"
   ]
  },
  {
   "cell_type": "code",
   "execution_count": null,
   "id": "ea386fec-f4ab-46b6-b02c-807004bc2945",
   "metadata": {},
   "outputs": [],
   "source": []
  }
 ],
 "metadata": {
  "kernelspec": {
   "display_name": "Python 3 (ipykernel)",
   "language": "python",
   "name": "python3"
  },
  "language_info": {
   "codemirror_mode": {
    "name": "ipython",
    "version": 3
   },
   "file_extension": ".py",
   "mimetype": "text/x-python",
   "name": "python",
   "nbconvert_exporter": "python",
   "pygments_lexer": "ipython3",
   "version": "3.12.7"
  }
 },
 "nbformat": 4,
 "nbformat_minor": 5
}
