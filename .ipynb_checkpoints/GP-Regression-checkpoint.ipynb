{
 "cells": [
  {
   "cell_type": "markdown",
   "id": "03a4e2b3-80d5-4e00-a626-f95f77c66516",
   "metadata": {},
   "source": [
    "## Hyper-params"
   ]
  },
  {
   "cell_type": "code",
   "execution_count": 1,
   "id": "edfaac03-1812-409b-8a24-0ae98f24f518",
   "metadata": {},
   "outputs": [],
   "source": [
    "POPULATION_SIZE = 500\n",
    "MAX_DEPTH = 7;\n",
    "TOURNAMENT_SIZE = 2\n",
    "XOVER_APP_RATE = 80\n",
    "MUTATION_APP_RATE = 20\n",
    "GENERATIONS = 100\n",
    "FITNESS_THRESHOLD = 0.01\n",
    "APPLICATION_RATES = [XOVER_APP_RATE/MUTATION_APP_RATE, 1]\n",
    "MAX_RANDOM = 5\n",
    "MIN_RANDOM = 1"
   ]
  },
  {
   "cell_type": "markdown",
   "id": "78108984-15cf-4cd1-ab9e-9e6c03d3f257",
   "metadata": {},
   "source": [
    "# Definition"
   ]
  },
  {
   "cell_type": "markdown",
   "id": "513a3149-aac9-4c00-a33b-1077963a98e7",
   "metadata": {},
   "source": [
    "## Imports and Boilerplate"
   ]
  },
  {
   "cell_type": "code",
   "execution_count": 2,
   "id": "e6ee8cfb-4dd3-455f-ad13-d01922289930",
   "metadata": {},
   "outputs": [],
   "source": [
    "import os\n",
    "import subprocess\n",
    "import random\n",
    "from collections.abc import Callable\n",
    "from collections.abc import Iterable\n",
    "from functools import reduce\n",
    "import pandas as pd\n",
    "import numpy as np\n",
    "import copy"
   ]
  },
  {
   "cell_type": "code",
   "execution_count": 3,
   "id": "d8828e53-b477-4d65-a2e5-1a509383f128",
   "metadata": {},
   "outputs": [],
   "source": [
    "%matplotlib inline"
   ]
  },
  {
   "cell_type": "markdown",
   "id": "8e1d4200-440b-49b0-8e59-f49c6164ba45",
   "metadata": {},
   "source": [
    "## Seeding random numbers"
   ]
  },
  {
   "cell_type": "code",
   "execution_count": 4,
   "id": "b9d36336-28bc-400d-8504-0934feb9734c",
   "metadata": {},
   "outputs": [],
   "source": [
    "random.seed(257)"
   ]
  },
  {
   "cell_type": "markdown",
   "id": "9fb412e5-200b-4479-82c4-5b0f3fd22314",
   "metadata": {
    "jp-MarkdownHeadingCollapsed": true
   },
   "source": [
    "## Primitive, Terminal and Func classes"
   ]
  },
  {
   "cell_type": "code",
   "execution_count": 5,
   "id": "9595b602-b885-46c4-902d-8b07ab02a57d",
   "metadata": {},
   "outputs": [],
   "source": [
    "class Primitive():\n",
    "    def __init__(self, symbol: str, arity: int = 0):\n",
    "        self.symbol = symbol\n",
    "        \n",
    "    def print():\n",
    "        print(self.symbol)"
   ]
  },
  {
   "cell_type": "code",
   "execution_count": 6,
   "id": "947de980-71df-4aa1-988b-6e2794785768",
   "metadata": {},
   "outputs": [],
   "source": [
    "class Terminal(Primitive):\n",
    "    def __init__(self, symbol: str, arity: int = 0):\n",
    "        self.symbol = symbol"
   ]
  },
  {
   "cell_type": "code",
   "execution_count": 7,
   "id": "dc97c7e0-261d-44e2-8ba6-1b76b23252b4",
   "metadata": {},
   "outputs": [],
   "source": [
    "class RandomEphemeralConstant(Terminal):\n",
    "    def __init__(self, symbol = 'R', arity: int = 0):\n",
    "        self.symbol = random.uniform(MIN_RANDOM, MAX_RANDOM + 1)"
   ]
  },
  {
   "cell_type": "code",
   "execution_count": 8,
   "id": "643d63a7-5380-4bec-bd6d-84eb27703d8f",
   "metadata": {},
   "outputs": [],
   "source": [
    "class Func(Primitive):\n",
    "    def __init__(self, symbol: str, arity: int, func: Callable[..., ...]):\n",
    "        self.symbol = symbol\n",
    "        self.arity = arity\n",
    "        self.func = func\n",
    "        \n",
    "    def exec(self, *args):\n",
    "        return self.func(*args)"
   ]
  },
  {
   "cell_type": "markdown",
   "id": "4098bbfd-eba7-46cf-af0b-d365e8a04549",
   "metadata": {
    "jp-MarkdownHeadingCollapsed": true
   },
   "source": [
    "## Node and Leaf classes"
   ]
  },
  {
   "cell_type": "code",
   "execution_count": 9,
   "id": "3acbc5d1-f214-4dd1-99b0-5ffe792d3eab",
   "metadata": {},
   "outputs": [],
   "source": [
    "class Node():\n",
    "    def __init__(self, data: Primitive = None, *children):\n",
    "        self.children = list(children)\n",
    "        self.data = data\n",
    "\n",
    "    def add_children(self, *children):\n",
    "        if self.full(): raise Exception('Node is full')\n",
    "        self.children.extend(children)\n",
    "\n",
    "    def set_data(self, data):\n",
    "        self.data = data\n",
    "\n",
    "    def max_children(self):\n",
    "        return self.data.arity\n",
    "\n",
    "    def full(self):\n",
    "        return self.max_children() == self.degree()\n",
    "\n",
    "    def depth(self):\n",
    "        if not len(self.children): return 0\n",
    "        \n",
    "        return 1 + max(child.depth() for child in self.children)\n",
    "        \n",
    "    def degree(self):\n",
    "        return len(self.children)\n",
    "\n",
    "    def exec(self, case: Iterable):\n",
    "        func = self.data\n",
    "        args = [child.exec(case) for child in self.children]\n",
    "        return func.exec(*args)\n",
    "\n",
    "    def node_count(self):\n",
    "        return 1 + sum (child.node_count() for child in self.children)\n",
    "\n",
    "    '''\n",
    "        0 is the root\n",
    "    '''\n",
    "    def get_node_at(self, pos, index = 0):\n",
    "        if pos <= 0: return None\n",
    "        for child in self.children:\n",
    "            index = index + 1\n",
    "            if index == pos:\n",
    "                return child, index\n",
    "            else:\n",
    "                node, index = child.get_node_at(pos, index)\n",
    "                if node: return node, index\n",
    "                else: continue\n",
    "        return None, index\n",
    "\n",
    "    def set_node_at(self, pos, node, index = 0):\n",
    "        if pos <= 0: return None\n",
    "        for i, child in enumerate(self.children):\n",
    "            index = index + 1\n",
    "            if index == pos:\n",
    "                prev_node = child\n",
    "                self.children[i] = node\n",
    "                return prev_node, index\n",
    "            else:\n",
    "                prev_node, index = child.set_node_at(pos, node, index)\n",
    "                if prev_node: return prev_node, index\n",
    "                else: continue\n",
    "        return None, index\n",
    "\n",
    "    def is_oversized(self, max_depth = MAX_DEPTH):\n",
    "        return self.depth() > max_depth\n",
    "\n",
    "    def prune(self, depth = 1, max_depth = MAX_DEPTH):\n",
    "        if depth == max_depth:\n",
    "            self.children = [Leaf(t) for t in random.choices(terminal_set, k = self.data.arity)]\n",
    "            return\n",
    "\n",
    "        for child in self.children:\n",
    "            child.prune(depth + 1, max_depth)\n",
    "    \n",
    "    def print(self):\n",
    "        print(self.to_pretty_str())\n",
    "        \n",
    "    def to_str(self, depth = 0):\n",
    "        str = f\"{self.data.symbol} ( \"\n",
    "        \n",
    "        for i, child in enumerate(self.children):\n",
    "            str += child.to_str(depth + 1)\n",
    "            if i < self.degree() - 1: str += ', '\n",
    "                \n",
    "        str += f\" )\"\n",
    "\n",
    "        return str\n",
    "        \n",
    "    def to_pretty_str(self, depth = 0):\n",
    "        str = f\"{self.data.symbol} (\"\n",
    "        \n",
    "        for i, child in enumerate(self.children):\n",
    "            str += f\"\\n{(depth + 1) * '\\t'}\"\n",
    "            str += child.to_pretty_str(depth + 1)\n",
    "            if i < self.degree() - 1: str += ','\n",
    "                \n",
    "        str += f\"\\n{depth * '\\t'})\"\n",
    "\n",
    "        return str"
   ]
  },
  {
   "cell_type": "code",
   "execution_count": 10,
   "id": "a2b3ff9d-95b4-4afb-b60c-e80ceeddba82",
   "metadata": {},
   "outputs": [],
   "source": [
    "class Leaf(Node):\n",
    "    def __init__(self, data: Primitive):\n",
    "        self.data = data\n",
    "\n",
    "    def depth(self):\n",
    "        return 0;\n",
    "\n",
    "    def max_children(self):\n",
    "        return 0;\n",
    "\n",
    "    def full(self):\n",
    "        return True;\n",
    "\n",
    "    def exec(self, case: Iterable):\n",
    "        terminal = self.data\n",
    "        \n",
    "        if isinstance(terminal, RandomEphemeralConstant): return terminal.symbol\n",
    "            \n",
    "        return case[terminal.symbol]\n",
    "\n",
    "    def node_count(self):\n",
    "        return 1\n",
    "\n",
    "    def get_node_at(self, pos, pointer = 0):\n",
    "        return None, pointer\n",
    "        \n",
    "    def set_node_at(self, pos, node: Node, pointer = 0):\n",
    "        return None, pointer\n",
    "\n",
    "    def prune(self, depth = 1, max_depth = MAX_DEPTH):\n",
    "        return\n",
    "\n",
    "    def print(self):\n",
    "        print(self.to_pretty_str())\n",
    "        \n",
    "    def to_pretty_str(self, depth = 0):\n",
    "        return self.data.symbol\n",
    "        \n",
    "    def to_str(self, depth = 0):\n",
    "        return str(self.data.symbol)     "
   ]
  },
  {
   "cell_type": "markdown",
   "id": "7c963beb-3144-4840-8dea-7d44305faa14",
   "metadata": {},
   "source": [
    "## Initial Population Generation"
   ]
  },
  {
   "cell_type": "code",
   "execution_count": 11,
   "id": "0c49540b-11de-43e6-befc-9ae3e68d060a",
   "metadata": {},
   "outputs": [],
   "source": [
    "def grow(node: Node, depth: int = 1, max_depth = MAX_DEPTH):\n",
    "    TERMINAL = 0;\n",
    "    FUNCTION = 1;\n",
    "    \n",
    "    primitive = random.choice([0,1])\n",
    "\n",
    "    if node.full(): return\n",
    "\n",
    "    if(primitive == TERMINAL or depth >= max_depth):\n",
    "        terminal = random.choice(terminal_set)\n",
    "        \n",
    "        child = None\n",
    "        \n",
    "        if isinstance(terminal, RandomEphemeralConstant): child = Leaf(RandomEphemeralConstant())\n",
    "            \n",
    "        else: child = Leaf(terminal)\n",
    "            \n",
    "        node.add_children(child)\n",
    "        if not node.full():\n",
    "            grow(node, depth, max_depth)\n",
    "    \n",
    "    if(primitive == FUNCTION and depth < max_depth):\n",
    "        child = Node(random.choice(function_set))\n",
    "        node.add_children(child)\n",
    "        grow(child, depth + 1, max_depth)\n",
    "        if not node.full():\n",
    "            grow(node, depth, max_depth)"
   ]
  },
  {
   "cell_type": "code",
   "execution_count": 12,
   "id": "44690456-6061-4c63-881b-8d68dc8f8ca7",
   "metadata": {},
   "outputs": [],
   "source": [
    "def is_duplicate(population: [str], indiv: Node) -> bool:\n",
    "    for i in population:\n",
    "        if i == indiv.to_str(): return True\n",
    "    return False"
   ]
  },
  {
   "cell_type": "code",
   "execution_count": 13,
   "id": "4124ca28-ee8e-4191-ba00-dde2486c4001",
   "metadata": {},
   "outputs": [],
   "source": [
    "def init_population(size = 50, method = 'grow') -> ([Node], []):\n",
    "    population = []\n",
    "    population_expressions = []\n",
    "    \n",
    "    for i in range(size):\n",
    "        \n",
    "        indiv = init_individual(method)\n",
    "        \n",
    "        while(is_duplicate(population_expressions, indiv)):\n",
    "            indiv = init_individual(method)\n",
    "            \n",
    "        population.append(indiv)\n",
    "        population_expressions.append(indiv.to_str())\n",
    "            \n",
    "    return population"
   ]
  },
  {
   "cell_type": "code",
   "execution_count": 14,
   "id": "8070a14b-6352-4b88-8f93-2b3c359a564f",
   "metadata": {},
   "outputs": [],
   "source": [
    "def init_individual(method = 'grow', leaf_root: bool = False):\n",
    "    roots = [ \n",
    "        Node(random.choice(function_set))\n",
    "    ]\n",
    "\n",
    "    if leaf_root: \n",
    "        terminal = random.choice(terminal_set);\n",
    "        \n",
    "        if isinstance(terminal, RandomEphemeralConstant): roots.append(Leaf(RandomEphemeralConstant()))\n",
    "            \n",
    "        else: roots.append(Leaf(terminal))\n",
    "\n",
    "    individual = random.choice(roots)\n",
    "    match method:\n",
    "        case 'grow':\n",
    "            grow(individual)\n",
    "            return individual\n",
    "        case _:\n",
    "            pass"
   ]
  },
  {
   "cell_type": "markdown",
   "id": "fc26ae39-9d60-4723-aa95-9dd7731bdde3",
   "metadata": {},
   "source": [
    "# Execution"
   ]
  },
  {
   "cell_type": "markdown",
   "id": "495e1b2a-d553-41e8-8843-8e60a86cca2b",
   "metadata": {
    "jp-MarkdownHeadingCollapsed": true
   },
   "source": [
    "## Fitness Cases (Dataset)"
   ]
  },
  {
   "cell_type": "code",
   "execution_count": 15,
   "id": "ea386fec-f4ab-46b6-b02c-807004bc2945",
   "metadata": {},
   "outputs": [],
   "source": [
    "dataset_url = \"192_vineyard.tsv\"\n",
    "\n",
    "cases = pd.read_csv(dataset_url, sep = '\\t')\n",
    "\n",
    "cases.columns = ['x1', 'x2', 'y']"
   ]
  },
  {
   "cell_type": "code",
   "execution_count": 16,
   "id": "c45a997f-d60a-4e64-bf68-64bff77afe09",
   "metadata": {},
   "outputs": [
    {
     "data": {
      "text/html": [
       "<div>\n",
       "<style scoped>\n",
       "    .dataframe tbody tr th:only-of-type {\n",
       "        vertical-align: middle;\n",
       "    }\n",
       "\n",
       "    .dataframe tbody tr th {\n",
       "        vertical-align: top;\n",
       "    }\n",
       "\n",
       "    .dataframe thead th {\n",
       "        text-align: right;\n",
       "    }\n",
       "</style>\n",
       "<table border=\"1\" class=\"dataframe\">\n",
       "  <thead>\n",
       "    <tr style=\"text-align: right;\">\n",
       "      <th></th>\n",
       "      <th>x1</th>\n",
       "      <th>x2</th>\n",
       "      <th>y</th>\n",
       "    </tr>\n",
       "  </thead>\n",
       "  <tbody>\n",
       "    <tr>\n",
       "      <th>0</th>\n",
       "      <td>1.0</td>\n",
       "      <td>5.0</td>\n",
       "      <td>9.5</td>\n",
       "    </tr>\n",
       "    <tr>\n",
       "      <th>1</th>\n",
       "      <td>3.0</td>\n",
       "      <td>8.0</td>\n",
       "      <td>17.5</td>\n",
       "    </tr>\n",
       "    <tr>\n",
       "      <th>2</th>\n",
       "      <td>3.0</td>\n",
       "      <td>11.0</td>\n",
       "      <td>18.0</td>\n",
       "    </tr>\n",
       "  </tbody>\n",
       "</table>\n",
       "</div>"
      ],
      "text/plain": [
       "    x1    x2     y\n",
       "0  1.0   5.0   9.5\n",
       "1  3.0   8.0  17.5\n",
       "2  3.0  11.0  18.0"
      ]
     },
     "execution_count": 16,
     "metadata": {},
     "output_type": "execute_result"
    }
   ],
   "source": [
    "cases.head(3)"
   ]
  },
  {
   "cell_type": "code",
   "execution_count": 17,
   "id": "9cd3702f-7656-4a1d-af8f-b449fb68dfd4",
   "metadata": {},
   "outputs": [
    {
     "data": {
      "text/plain": [
       "1.0"
      ]
     },
     "execution_count": 17,
     "metadata": {},
     "output_type": "execute_result"
    }
   ],
   "source": [
    "cases.iloc[0]['x1']"
   ]
  },
  {
   "cell_type": "markdown",
   "id": "988b32e2-97fc-4650-b86e-769d7c4419eb",
   "metadata": {
    "jp-MarkdownHeadingCollapsed": true
   },
   "source": [
    "## Primitive Sets"
   ]
  },
  {
   "cell_type": "code",
   "execution_count": 18,
   "id": "4ae8ab6e-4dc8-4708-8688-e043b3e1f817",
   "metadata": {},
   "outputs": [],
   "source": [
    "terminal_set = [Terminal('x1'), Terminal('x2'), RandomEphemeralConstant()]"
   ]
  },
  {
   "cell_type": "code",
   "execution_count": 19,
   "id": "f1972c51-9228-4121-af1f-7a2a87814a6b",
   "metadata": {},
   "outputs": [],
   "source": [
    "def add(*args): return sum(args)"
   ]
  },
  {
   "cell_type": "code",
   "execution_count": 20,
   "id": "62c2ef9f-2c31-4d4b-81fe-04b7d8357eab",
   "metadata": {},
   "outputs": [],
   "source": [
    "def minus(minuend, subtrahend): return minuend - subtrahend"
   ]
  },
  {
   "cell_type": "code",
   "execution_count": 21,
   "id": "b0355eaa-e649-49b5-a939-e8e9589ff32d",
   "metadata": {},
   "outputs": [],
   "source": [
    "def mul(*args): return reduce(lambda x, y: x * y, args)"
   ]
  },
  {
   "cell_type": "code",
   "execution_count": 22,
   "id": "3f9f0072-4b7e-47a0-9014-4368b094860b",
   "metadata": {},
   "outputs": [],
   "source": [
    "def div(num, den): return 1 if den == 0 else num / den"
   ]
  },
  {
   "cell_type": "code",
   "execution_count": 23,
   "id": "5345cc19-d16a-4c3f-810a-c23d14dfde31",
   "metadata": {},
   "outputs": [],
   "source": [
    "function_set = [\n",
    "    Func('+', 2, add), \n",
    "    Func('-', 2, minus), \n",
    "    Func('*', 2, mul), \n",
    "    Func('/', 2, div)]"
   ]
  },
  {
   "cell_type": "markdown",
   "id": "1b4389b7-d966-460c-9f0e-53bcd20ea2dc",
   "metadata": {
    "jp-MarkdownHeadingCollapsed": true
   },
   "source": [
    "## Fitness Calculation"
   ]
  },
  {
   "cell_type": "code",
   "execution_count": 24,
   "id": "a62c8421-0dc6-448f-8d23-c9593af3df43",
   "metadata": {},
   "outputs": [],
   "source": [
    "def raw_fitness(prog: Node, cases: Iterable):\n",
    "    fitness = 0;\n",
    "    for i, case in cases.iterrows():\n",
    "        fitness += abs(prog.exec(case) - case['y'])\n",
    "    return fitness / len(cases);"
   ]
  },
  {
   "cell_type": "code",
   "execution_count": 25,
   "id": "41c51c33-b684-48a7-87f4-8aedaca59a58",
   "metadata": {},
   "outputs": [],
   "source": [
    "def get_best_fitness(pop: [Node], cases: Iterable):\n",
    "    best_fitness = raw_fitness(pop[0], cases)\n",
    "    best_prog = pop[0]\n",
    "    \n",
    "    for prog in pop[1:]:\n",
    "        fitness = raw_fitness(prog, cases)\n",
    "\n",
    "        if fitness < best_fitness:\n",
    "            best_fitness = fitness\n",
    "            best_prog = prog\n",
    "    return best_fitness, best_prog"
   ]
  },
  {
   "cell_type": "markdown",
   "id": "2f8c494a-0e56-4ceb-b870-519df3d32bd8",
   "metadata": {
    "jp-MarkdownHeadingCollapsed": true
   },
   "source": [
    "## Selection"
   ]
  },
  {
   "cell_type": "code",
   "execution_count": 26,
   "id": "22321b98-6a1c-4fff-8166-217df807d624",
   "metadata": {},
   "outputs": [],
   "source": [
    "def tournament_select(population: [Node], cases, size = 2) -> Node:\n",
    "    programs = random.choices(population, k = size)\n",
    "    fitness = [0] * size\n",
    "    for i, prog in enumerate(programs):\n",
    "        fitness[i] = raw_fitness(prog, cases)\n",
    "    \n",
    "    selected_index = np.array(fitness, dtype=int).argsort()[0]\n",
    "    return programs[selected_index]\n",
    "        "
   ]
  },
  {
   "cell_type": "markdown",
   "id": "5c73c4eb-5bd2-4b00-a7ef-4c2b98c6680a",
   "metadata": {},
   "source": [
    "## Genetic Operators"
   ]
  },
  {
   "cell_type": "code",
   "execution_count": 27,
   "id": "ccfb8c25-8958-4023-acf2-97971ce55a41",
   "metadata": {},
   "outputs": [],
   "source": [
    "def crossover(parent1: Node, parent2: Node) -> [Node]:\n",
    "    offspring1 = copy.deepcopy(parent1);\n",
    "    offspring2 = copy.deepcopy(parent2);\n",
    "\n",
    "    fragment1_pos = random.randrange(1, offspring1.node_count())\n",
    "    fragment2_pos = random.randrange(1, offspring2.node_count())\n",
    "\n",
    "    fragment1 = offspring1.get_node_at(fragment1_pos)[0]\n",
    "    fragment2 = offspring2.get_node_at(fragment2_pos)[0]\n",
    "\n",
    "    offspring2.set_node_at(fragment2_pos, fragment1)\n",
    "    offspring1.set_node_at(fragment1_pos, fragment2)\n",
    "\n",
    "    return [offspring1, offspring2]"
   ]
  },
  {
   "cell_type": "code",
   "execution_count": 28,
   "id": "22616061-51ff-48be-8aba-9435c5bdf7f8",
   "metadata": {},
   "outputs": [],
   "source": [
    "def mutate(parent: Node) -> Node:\n",
    "    mutant = copy.deepcopy(parent);\n",
    "    \n",
    "    point = random.randrange(1, mutant.node_count());\n",
    "\n",
    "    fragment = init_individual(method='grow', leaf_root=True)\n",
    "\n",
    "    mutant.set_node_at(point, fragment)\n",
    "\n",
    "    return mutant"
   ]
  },
  {
   "cell_type": "markdown",
   "id": "b8fa3b44-a76c-4a1b-8b4a-6cf2756f8968",
   "metadata": {},
   "source": [
    "## Evolution"
   ]
  },
  {
   "cell_type": "code",
   "execution_count": 29,
   "id": "a002355f-1e0a-40a5-be81-9a221346b83a",
   "metadata": {},
   "outputs": [],
   "source": [
    "operators = ['crossover', 'mutation']"
   ]
  },
  {
   "cell_type": "code",
   "execution_count": 30,
   "id": "71b2c358-b810-4318-ac11-489fda3777a0",
   "metadata": {},
   "outputs": [],
   "source": [
    "def gen_next_population(population: [Node]) -> [Node]:\n",
    "    next_population = []\n",
    "\n",
    "    while len(next_population) < POPULATION_SIZE:\n",
    "        operator = random.choices(operators, weights=APPLICATION_RATES)\n",
    "        \n",
    "        match operator[0]:\n",
    "            case 'crossover':\n",
    "                parent1 = tournament_select(population, cases, size = TOURNAMENT_SIZE)\n",
    "                parent2 = tournament_select(population, cases, size = TOURNAMENT_SIZE)\n",
    "\n",
    "                offsprings = crossover(parent1, parent2)\n",
    "\n",
    "                if(offsprings[0].is_oversized()): offsprings[0].prune()\n",
    "                    \n",
    "                if(offsprings[1].is_oversized()): offsprings[1].prune()\n",
    "                    \n",
    "                next_population.append(offsprings[0])\n",
    "\n",
    "                if len(next_population) == POPULATION_SIZE : break\n",
    "                    \n",
    "                else: next_population.append(offsprings[1])\n",
    "            case 'mutation':\n",
    "                parent = tournament_select(population, cases, size = TOURNAMENT_SIZE)\n",
    "\n",
    "                mutant = mutate(parent)\n",
    "\n",
    "                if(mutant.is_oversized()): mutant.prune()\n",
    "\n",
    "                next_population.append(mutant)\n",
    "    return next_population\n",
    "        "
   ]
  },
  {
   "cell_type": "code",
   "execution_count": 31,
   "id": "79f36357-a5d6-4559-846c-2b7bc94b875a",
   "metadata": {},
   "outputs": [],
   "source": [
    "def run():\n",
    "    population = init_population()\n",
    "    \n",
    "    for i in range(GENERATIONS):\n",
    "        best_fitness, best_prog = get_best_fitness(population, cases)\n",
    "\n",
    "        print(f\"Generation: {i}; |P|: {len(population)} Best fitness: {best_fitness}\")\n",
    "        print(best_prog.to_str())\n",
    "        print()\n",
    "    \n",
    "        \n",
    "        if best_fitness <= FITNESS_THRESHOLD:\n",
    "            best_prog.print()\n",
    "            break\n",
    "            \n",
    "        population = gen_next_population(population);"
   ]
  },
  {
   "cell_type": "markdown",
   "id": "2b109d39-28b9-4c12-be2e-95910883f762",
   "metadata": {},
   "source": [
    "## Run"
   ]
  },
  {
   "cell_type": "code",
   "execution_count": 32,
   "id": "b37a5634-7f66-4499-a2c5-82c43b93b78c",
   "metadata": {},
   "outputs": [
    {
     "name": "stdout",
     "output_type": "stream",
     "text": [
      "Generation: 0; |P|: 50 Best fitness: 2.875\n",
      "+ ( * ( / ( x2, x2 ), x2 ), x2 )\n",
      "\n",
      "Generation: 1; |P|: 500 Best fitness: 2.6367026834834784\n",
      "* ( 1.3072679256222695, + ( x2, x1 ) )\n",
      "\n",
      "Generation: 2; |P|: 500 Best fitness: 2.506102532361236\n",
      "* ( 1.877771439375935, + ( x1, 5.742941086589154 ) )\n",
      "\n",
      "Generation: 3; |P|: 500 Best fitness: 2.2411300129142258\n",
      "+ ( + ( 5.442345083942474, x1 ), x2 )\n",
      "\n",
      "Generation: 4; |P|: 500 Best fitness: 2.5596981179721046\n",
      "+ ( 3.429856595515015, + ( x2, x1 ) )\n",
      "\n",
      "Generation: 5; |P|: 500 Best fitness: 2.2411300129142258\n",
      "+ ( x2, + ( 5.442345083942474, x1 ) )\n",
      "\n",
      "Generation: 6; |P|: 500 Best fitness: 2.2225075009606097\n",
      "+ ( x2, + ( 4.303701243756043, x1 ) )\n",
      "\n",
      "Generation: 7; |P|: 500 Best fitness: 2.2225075009606097\n",
      "+ ( x2, + ( 4.303701243756043, x1 ) )\n",
      "\n",
      "Generation: 8; |P|: 500 Best fitness: 2.1837970674216716\n",
      "+ ( + ( 4.721276247036538, x2 ), x1 )\n",
      "\n",
      "Generation: 9; |P|: 500 Best fitness: 2.1837970674216716\n",
      "+ ( + ( 4.721276247036538, x2 ), x1 )\n",
      "\n",
      "Generation: 10; |P|: 500 Best fitness: 2.1837970674216716\n",
      "+ ( + ( x2, x1 ), 4.721276247036538 )\n",
      "\n",
      "Generation: 11; |P|: 500 Best fitness: 2.1837970674216716\n",
      "+ ( + ( x2, x1 ), 4.721276247036538 )\n",
      "\n",
      "Generation: 12; |P|: 500 Best fitness: 2.2225075009606097\n",
      "+ ( x2, + ( x1, 4.303701243756043 ) )\n",
      "\n",
      "Generation: 13; |P|: 500 Best fitness: 2.2225075009606097\n",
      "+ ( + ( x1, 4.303701243756043 ), x2 )\n",
      "\n",
      "Generation: 14; |P|: 500 Best fitness: 2.2916318500474513\n",
      "+ ( + ( 5.770607025308429, x1 ), x2 )\n",
      "\n",
      "Generation: 15; |P|: 500 Best fitness: 2.2916318500474513\n",
      "+ ( + ( 5.770607025308429, x1 ), x2 )\n",
      "\n",
      "Generation: 16; |P|: 500 Best fitness: 2.2916318500474513\n",
      "+ ( + ( 5.770607025308429, x1 ), x2 )\n",
      "\n",
      "Generation: 17; |P|: 500 Best fitness: 2.512866359441273\n",
      "+ ( + ( 3.512728819578991, x1 ), x2 )\n",
      "\n",
      "Generation: 18; |P|: 500 Best fitness: 2.756891491762342\n",
      "+ ( x2, + ( + ( x1, / ( 1.263929321947508, + ( * ( - ( + ( x1, / ( x2, x2 ) ), / ( x1, 4.421551330676827 ) ), x2 ), 1.0768859205490107 ) ) ), 3.0475704820251983 ) )\n",
      "\n",
      "Generation: 19; |P|: 500 Best fitness: 2.756891491762342\n",
      "+ ( x2, + ( + ( x1, / ( 1.263929321947508, + ( * ( - ( + ( x1, / ( x2, x2 ) ), / ( x1, 4.421551330676827 ) ), x2 ), 1.0768859205490107 ) ) ), 3.0475704820251983 ) )\n",
      "\n",
      "Generation: 20; |P|: 500 Best fitness: 2.774604108105761\n",
      "+ ( x2, + ( + ( x1, / ( 1.263929321947508, + ( * ( - ( + ( x1, x2 ), / ( x1, 4.421551330676827 ) ), x2 ), 1.0768859205490107 ) ) ), 3.0475704820251983 ) )\n",
      "\n",
      "Generation: 21; |P|: 500 Best fitness: 2.780983171224189\n",
      "+ ( x2, + ( + ( x1, / ( 1.263929321947508, + ( * ( - ( + ( x1, x2 ), x2 ), x2 ), 1.0768859205490107 ) ) ), 3.0475704820251983 ) )\n",
      "\n",
      "Generation: 22; |P|: 500 Best fitness: 2.795507828266191\n",
      "+ ( * ( 4.642921190432787, 1.4779303270018027 ), x2 )\n",
      "\n",
      "Generation: 23; |P|: 500 Best fitness: 2.3316924844081757\n",
      "+ ( x2, + ( 1.8792359242591585, + ( x1, 1.9958406453860258 ) ) )\n",
      "\n",
      "Generation: 24; |P|: 500 Best fitness: 2.2201323829674924\n",
      "+ ( x2, + ( x1, 5.305860489288698 ) )\n",
      "\n",
      "Generation: 25; |P|: 500 Best fitness: 2.875\n",
      "+ ( x2, x2 )\n",
      "\n",
      "Generation: 26; |P|: 500 Best fitness: 2.875\n",
      "+ ( x2, x2 )\n",
      "\n",
      "Generation: 27; |P|: 500 Best fitness: 2.875\n",
      "+ ( x2, x2 )\n",
      "\n",
      "Generation: 28; |P|: 500 Best fitness: 2.875\n",
      "+ ( x2, x2 )\n",
      "\n",
      "Generation: 29; |P|: 500 Best fitness: 2.875\n",
      "+ ( x2, x2 )\n",
      "\n",
      "Generation: 30; |P|: 500 Best fitness: 2.875\n",
      "+ ( x2, x2 )\n",
      "\n",
      "Generation: 31; |P|: 500 Best fitness: 2.3557811129783497\n",
      "+ ( + ( x1, 3.8268993125048403 ), x2 )\n",
      "\n",
      "Generation: 32; |P|: 500 Best fitness: 2.6667624902499787\n",
      "+ ( - ( + ( + ( + ( x1, 2.1952749154998314 ), x1 ), x1 ), x1 ), x2 )\n",
      "\n",
      "Generation: 33; |P|: 500 Best fitness: 2.7788461538461537\n",
      "+ ( - ( x2, / ( x2, x2 ) ), x2 )\n",
      "\n",
      "Generation: 34; |P|: 500 Best fitness: 2.7788461538461537\n",
      "+ ( x2, - ( x2, / ( x2, x2 ) ) )\n",
      "\n",
      "Generation: 35; |P|: 500 Best fitness: 2.253727188462101\n",
      "+ ( + ( x1, 5.524226725003656 ), x2 )\n",
      "\n",
      "Generation: 36; |P|: 500 Best fitness: 2.3246502442137857\n",
      "+ ( + ( 5.9852265873896116, x1 ), x2 )\n",
      "\n",
      "Generation: 37; |P|: 500 Best fitness: 2.3246502442137857\n",
      "+ ( + ( 5.9852265873896116, x1 ), x2 )\n",
      "\n",
      "Generation: 38; |P|: 500 Best fitness: 2.3246502442137857\n",
      "+ ( + ( 5.9852265873896116, x1 ), x2 )\n",
      "\n",
      "Generation: 39; |P|: 500 Best fitness: 2.872217410498151\n",
      "+ ( - ( x2, / ( / ( + ( - ( / ( x2, x2 ), x2 ), x2 ), + ( x2, x2 ) ), 2.361037040018206 ) ), x2 )\n",
      "\n",
      "Generation: 40; |P|: 500 Best fitness: 2.300736511297844\n",
      "+ ( + ( - ( 5.785409987894884, / ( + ( / ( x2, + ( * ( x1, x2 ), / ( 4.949995794292854, x1 ) ) ), - ( + ( 1.1039585281395987, + ( + ( 2.197764917296886, 1.9393708805874224 ), 1.4992272745164712 ) ), x2 ) ), x2 ) ), x1 ), x2 )\n",
      "\n",
      "Generation: 41; |P|: 500 Best fitness: 2.171915576900681\n",
      "+ ( + ( - ( 5.785409987894884, / ( + ( / ( x2, + ( * ( x1, x2 ), / ( 4.949995794292854, x1 ) ) ), - ( + ( 1.1039585281395987, + ( + ( 2.197764917296886, x2 ), 1.4992272745164712 ) ), x2 ) ), x2 ) ), x1 ), x2 )\n",
      "\n",
      "Generation: 42; |P|: 500 Best fitness: 2.1644394086965884\n",
      "+ ( + ( - ( 5.785409987894884, / ( + ( / ( x2, + ( * ( x1, x2 ), / ( 4.949995794292854, x1 ) ) ), - ( + ( 1.1039585281395987, + ( + ( 2.197764917296886, 1.9393708805874224 ), x2 ) ), x2 ) ), x2 ) ), x1 ), x2 )\n",
      "\n",
      "Generation: 43; |P|: 500 Best fitness: 2.1644394086965884\n",
      "+ ( + ( - ( 5.785409987894884, / ( + ( / ( x2, + ( * ( x1, x2 ), / ( 4.949995794292854, x1 ) ) ), - ( + ( 1.1039585281395987, + ( + ( 2.197764917296886, 1.9393708805874224 ), x2 ) ), x2 ) ), x2 ) ), x1 ), x2 )\n",
      "\n",
      "Generation: 44; |P|: 500 Best fitness: 2.1813303850809658\n",
      "+ ( + ( - ( 5.785409987894884, / ( x2, x2 ) ), x1 ), x2 )\n",
      "\n",
      "Generation: 45; |P|: 500 Best fitness: 2.8554152457476762\n",
      "+ ( x2, + ( * ( / ( * ( + ( / ( + ( x2, x2 ), - ( 5.372004552002617, 3.5861389790167033 ) ), / ( + ( + ( / ( x1, - ( * ( - ( x1, x2 ), x2 ), x2 ) ), 2.4311506614070884 ), - ( / ( x2, 5.971953896298871 ), x2 ) ), * ( - ( + ( x2, x1 ), x1 ), + ( + ( * ( 1.0304310544999304, / ( * ( / ( 3.905815167738677, * ( 2.986763377721188, 3.7529018102481677 ) ), 1.5369196787417048 ), - ( x2, + ( x2, x2 ) ) ) ), 5.877726182469827 ), x2 ) ) ) ), x1 ), + ( x1, - ( - ( - ( * ( x2, x2 ), x1 ), x1 ), * ( * ( * ( x2, x1 ), + ( - ( - ( / ( + ( - ( * ( + ( 3.265193798345023, + ( x2, 2.7856066729508733 ) ), x1 ), x2 ), / ( + ( * ( 2.389949645699002, * ( 2.057656021486799, x1 ) ), + ( x2, * ( x2, + ( x2, x2 ) ) ) ), x2 ) ), x2 ), x1 ), - ( + ( x2, * ( x2, - ( 1.3257598480098096, - ( 2.8676284073072598, x1 ) ) ) ), - ( x1, * ( / ( 5.506328543221011, - ( x2, x2 ) ), x1 ) ) ) ), x2 ) ), * ( / ( x1, x1 ), x2 ) ) ) ) ), x1 ), x2 ) )\n",
      "\n",
      "Generation: 46; |P|: 500 Best fitness: 2.875\n",
      "+ ( x2, x2 )\n",
      "\n",
      "Generation: 47; |P|: 500 Best fitness: 2.344624222385332\n",
      "+ ( + ( x1, 3.8492130936908726 ), x2 )\n",
      "\n",
      "Generation: 48; |P|: 500 Best fitness: 2.2072846027882096\n",
      "+ ( + ( x1, + ( / ( x1, * ( 1.6808401742770032, * ( + ( 3.47655430676387, / ( x2, x2 ) ), x2 ) ) ), 5.196843860500994 ) ), x2 )\n",
      "\n",
      "Generation: 49; |P|: 500 Best fitness: 2.1808568969097997\n",
      "+ ( x2, + ( x1, 5.050569829913698 ) )\n",
      "\n",
      "Generation: 50; |P|: 500 Best fitness: 2.323078313545399\n",
      "+ ( + ( 4.580717092294832, + ( x1, * ( 4.564121224836786, / ( x1, * ( + ( 4.4967016031325375, - ( x2, x1 ) ), x1 ) ) ) ) ), x2 )\n",
      "\n",
      "Generation: 51; |P|: 500 Best fitness: 2.323078313545399\n",
      "+ ( + ( 4.580717092294832, + ( x1, * ( 4.564121224836786, / ( x1, * ( + ( 4.4967016031325375, - ( x2, x1 ) ), x1 ) ) ) ) ), x2 )\n",
      "\n",
      "Generation: 52; |P|: 500 Best fitness: 2.323078313545399\n",
      "+ ( + ( 4.580717092294832, + ( x1, * ( 4.564121224836786, / ( x1, * ( + ( 4.4967016031325375, - ( x2, x1 ) ), x1 ) ) ) ) ), x2 )\n",
      "\n",
      "Generation: 53; |P|: 500 Best fitness: 2.1751653617824953\n",
      "+ ( + ( 4.580717092294832, + ( x1, * ( 4.564121224836786, / ( x1, * ( + ( 4.4967016031325375, - ( x2, x1 ) ), x2 ) ) ) ) ), x2 )\n",
      "\n",
      "Generation: 54; |P|: 500 Best fitness: 2.1672512038686267\n",
      "+ ( + ( 4.580717092294832, + ( x1, * ( 4.564121224836786, / ( x1, * ( x2, x2 ) ) ) ) ), x2 )\n",
      "\n",
      "Generation: 55; |P|: 500 Best fitness: 2.8745717686237127\n",
      "+ ( x2, + ( * ( / ( * ( + ( / ( + ( x2, x2 ), - ( 5.372004552002617, x2 ) ), / ( + ( + ( / ( x1, - ( * ( - ( x2, x2 ), x2 ), x2 ) ), 2.4311506614070884 ), - ( / ( x2, 5.971953896298871 ), x2 ) ), * ( - ( + ( x2, x1 ), x2 ), + ( + ( * ( 1.0304310544999304, / ( * ( / ( 3.905815167738677, * ( 2.986763377721188, x2 ) ), 1.5369196787417048 ), - ( x2, + ( x2, x2 ) ) ) ), 5.877726182469827 ), 4.614978107893422 ) ) ) ), x1 ), + ( x1, - ( - ( - ( * ( x2, x2 ), x1 ), x1 ), * ( * ( * ( x2, x1 ), + ( - ( - ( / ( + ( x2, / ( + ( * ( 2.389949645699002, * ( 2.057656021486799, x2 ) ), + ( x2, * ( x2, + ( x2, x2 ) ) ) ), x2 ) ), x2 ), x1 ), - ( + ( x2, * ( x2, - ( 1.3257598480098096, - ( 2.8676284073072598, x1 ) ) ) ), - ( x1, * ( / ( 5.506328543221011, - ( x2, x2 ) ), x1 ) ) ) ), x2 ) ), * ( / ( x1, x1 ), - ( + ( * ( - ( x1, * ( 3.007905856674496, / ( x2, x1 ) ) ), x1 ), - ( - ( / ( x2, x2 ), + ( x2, 2.3599991304500127 ) ), / ( / ( / ( x2, x2 ), x1 ), x1 ) ) ), + ( * ( + ( - ( + ( * ( + ( x1, / ( 4.6992250764221986, + ( x1, x2 ) ) ), + ( x1, 2.300084254141791 ) ), + ( x2, + ( 2.550934640117858, / ( + ( x1, x2 ), - ( x2, x2 ) ) ) ) ), x1 ), / ( x2, 3.1110635811269662 ) ), x2 ), + ( 4.340904093577978, x1 ) ) ) ) ) ) ) ), x1 ), x2 ) )\n",
      "\n",
      "Generation: 56; |P|: 500 Best fitness: 2.193933370947856\n",
      "+ ( + ( 2.304840445678125, + ( 2.8307264654829387, x1 ) ), x2 )\n",
      "\n",
      "Generation: 57; |P|: 500 Best fitness: 2.292812089168588\n",
      "+ ( + ( / ( + ( 2.2266195689064974, * ( * ( / ( x1, * ( 5.9468475299640575, 1.9726710112878434 ) ), * ( / ( 1.4762733817550817, 1.1069361741888741 ), / ( 5.447967940815751, 5.079879004257809 ) ) ), x2 ) ), x1 ), + ( 2.8307264654829387, x1 ) ), x2 )\n",
      "\n",
      "Generation: 58; |P|: 500 Best fitness: 2.216783985603388\n",
      "+ ( x2, + ( 4.340904093577978, x1 ) )\n",
      "\n",
      "Generation: 59; |P|: 500 Best fitness: 2.3727615973173033\n",
      "+ ( + ( 5.701612023541592, / ( x1, + ( 3.3844688486197723, / ( / ( + ( - ( x1, x1 ), - ( / ( + ( x2, + ( / ( + ( x2, x2 ), - ( / ( x2, x2 ), x2 ) ), x1 ) ), / ( - ( / ( 4.739477988730942, x1 ), x2 ), - ( * ( x2, x1 ), 1.1409186904793653 ) ) ), x1 ) ), - ( + ( + ( x1, x2 ), 4.021540330921214 ), x2 ) ), x1 ) ) ) ), x2 )\n",
      "\n",
      "Generation: 60; |P|: 500 Best fitness: 2.365493043955624\n",
      "+ ( + ( 5.701612023541592, / ( x1, + ( 3.3844688486197723, / ( / ( + ( - ( x2, x1 ), - ( / ( + ( x2, + ( / ( + ( x2, x2 ), - ( / ( x2, x2 ), x2 ) ), x1 ) ), / ( - ( / ( 4.739477988730942, x1 ), x2 ), - ( * ( x2, x1 ), 1.1409186904793653 ) ) ), x1 ) ), - ( + ( + ( x1, x2 ), 4.021540330921214 ), x2 ) ), x1 ) ) ) ), x2 )\n",
      "\n",
      "Generation: 61; |P|: 500 Best fitness: 2.3032119083924623\n",
      "+ ( + ( x1, 5.845877404551007 ), x2 )\n",
      "\n",
      "Generation: 62; |P|: 500 Best fitness: 2.216783985603388\n",
      "+ ( x2, + ( 4.340904093577978, x1 ) )\n",
      "\n",
      "Generation: 63; |P|: 500 Best fitness: 2.552056692838335\n",
      "+ ( x2, * ( / ( x2, - ( x2, / ( + ( + ( - ( + ( x2, x1 ), 5.452795382493965 ), + ( + ( 2.3683298671665045, / ( + ( / ( x1, x2 ), x2 ), * ( x2, x2 ) ) ), + ( + ( 1.3648375347683936, 2.74662705890647 ), * ( * ( x1, 2.0548604933893113 ), * ( 2.3631115606553292, 1.6148437775414595 ) ) ) ) ), 4.764064591865797 ), - ( / ( - ( x1, 4.886441060784601 ), / ( / ( / ( * ( * ( - ( / ( + ( 2.473138422564355, 1.2947110994484092 ), - ( x1, 5.279583734589499 ) ), / ( 5.2645564993627625, / ( * ( - ( 1.1405809332205181, x2 ), 1.3497221540521438 ), x1 ) ) ), 4.972471335471915 ), - ( * ( x2, x1 ), - ( / ( / ( x1, x1 ), 5.476696822851068 ), 3.8696699756640838 ) ) ), + ( x2, / ( * ( 2.4702970196700353, - ( 5.928345578953267, - ( * ( x2, / ( 4.413688876087599, + ( / ( * ( x1, 2.585320324126493 ), * ( 2.585320324126493, x1 ) ), x2 ) ) ), x2 ) ) ), x2 ) ) ), x2 ), x2 ) ), * ( x2, * ( + ( - ( 1.8057840591641396, 2.3788017819486598 ), / ( - ( - ( - ( + ( x1, - ( * ( * ( x2, x2 ), x2 ), + ( * ( 3.890372497761859, x1 ), 2.8243869500311023 ) ) ), * ( x2, x1 ) ), * ( x2, + ( 1.369214512265175, 3.0487277331555513 ) ) ), * ( + ( x2, x1 ), 1.5475988215574552 ) ), - ( x2, + ( x1, 4.808152469036521 ) ) ) ), / ( x2, / ( / ( x1, + ( 5.741231295839193, 1.400111265708576 ) ), + ( + ( x1, 4.561720629156087 ), x2 ) ) ) ) ) ) ) ) ), * ( 2.3462255288566762, 3.2445178772081125 ) ) )\n",
      "\n",
      "Generation: 64; |P|: 500 Best fitness: 2.461599746150954\n",
      "+ ( x2, + ( / ( x2, x2 ), + ( 5.541799449993737, x1 ) ) )\n",
      "\n",
      "Generation: 65; |P|: 500 Best fitness: 2.3003906196723816\n",
      "+ ( x2, + ( / ( 5.176096580723248, + ( x2, x2 ) ), + ( 5.541799449993737, x1 ) ) )\n",
      "\n",
      "Generation: 66; |P|: 500 Best fitness: 2.208198863980247\n",
      "+ ( x2, + ( - ( 1.0570797142119934, - ( * ( / ( - ( x1, - ( x2, + ( - ( - ( + ( x1, x1 ), - ( x1, - ( x1, / ( 5.284999007125892, x2 ) ) ) ), x1 ), x2 ) ) ), * ( + ( / ( - ( - ( x1, / ( + ( / ( x2, / ( 5.175748184837192, x1 ) ), - ( x1, x1 ) ), x1 ) ), x1 ), / ( - ( / ( + ( x2, 3.911360965577823 ), x1 ), x2 ), 1.5026617651389138 ) ), 5.372680625721705 ), + ( 3.443197559457453, x1 ) ) ), x1 ), 4.8115957527622335 ) ), x1 ) )\n",
      "\n",
      "Generation: 67; |P|: 500 Best fitness: 2.1816345761296088\n",
      "+ ( x2, + ( - ( 1.0570797142119934, - ( * ( / ( x2, * ( + ( / ( - ( - ( x1, / ( + ( / ( x2, / ( 5.175748184837192, x1 ) ), - ( x1, x1 ) ), x1 ) ), x1 ), / ( - ( / ( + ( x2, 3.911360965577823 ), x1 ), x2 ), 1.5026617651389138 ) ), 5.372680625721705 ), + ( 3.443197559457453, x1 ) ) ), x1 ), 4.8115957527622335 ) ), x1 ) )\n",
      "\n",
      "Generation: 68; |P|: 500 Best fitness: 2.216783985603388\n",
      "+ ( x2, + ( 4.340904093577978, x1 ) )\n",
      "\n",
      "Generation: 69; |P|: 500 Best fitness: 2.5530724922052297\n",
      "+ ( x2, * ( / ( x2, - ( x2, / ( + ( + ( - ( + ( x2, x1 ), x2 ), + ( + ( 2.3683298671665045, / ( + ( / ( x1, 3.547325059603298 ), x2 ), * ( x2, x2 ) ) ), + ( + ( 1.3648375347683936, 2.74662705890647 ), * ( * ( x1, 2.0548604933893113 ), * ( 2.3631115606553292, 1.6148437775414595 ) ) ) ) ), x2 ), - ( / ( - ( x1, 4.886441060784601 ), / ( / ( / ( * ( * ( - ( / ( + ( 2.473138422564355, 1.2947110994484092 ), - ( x1, 5.279583734589499 ) ), / ( 5.2645564993627625, / ( * ( - ( 1.1405809332205181, x2 ), 1.3497221540521438 ), x1 ) ) ), 4.972471335471915 ), - ( * ( x2, x1 ), - ( / ( / ( x1, x1 ), 5.476696822851068 ), 3.8696699756640838 ) ) ), + ( x2, / ( * ( 2.4702970196700353, - ( 5.928345578953267, - ( * ( x2, / ( 4.413688876087599, + ( / ( * ( x1, 2.585320324126493 ), * ( 2.585320324126493, x1 ) ), x2 ) ) ), / ( x2, / ( + ( / ( - ( x2, x1 ), * ( 2.585320324126493, 2.585320324126493 ) ), x1 ), - ( 4.8492007971802575, 2.156576201083526 ) ) ) ) ) ), x2 ) ) ), - ( x1, - ( + ( x2, + ( x2, / ( x2, * ( - ( x2, * ( x1, x1 ) ), + ( + ( x1, * ( x1, 1.8351461751612232 ) ), - ( x2, x1 ) ) ) ) ) ), / ( x1, + ( x1, * ( + ( * ( * ( x2, 3.048301190444653 ), 1.4605325010593853 ), x2 ), * ( - ( * ( - ( / ( 4.730213394607506, x2 ), 3.2379297905982605 ), / ( 1.4813985249690433, / ( 5.072662326562587, 5.686661386837722 ) ) ), 2.7209299925405275 ), x1 ) ) ) ) ) ) ), x2 ) ), * ( x2, * ( + ( - ( 1.8057840591641396, 2.3788017819486598 ), / ( - ( - ( - ( + ( x1, - ( * ( * ( x2, x2 ), x2 ), + ( x2, 2.8243869500311023 ) ) ), * ( x2, x1 ) ), x2 ), * ( + ( x2, x1 ), 1.5475988215574552 ) ), - ( x2, + ( x1, 4.808152469036521 ) ) ) ), / ( x2, / ( / ( x1, + ( 5.741231295839193, 1.400111265708576 ) ), + ( + ( x1, x2 ), x2 ) ) ) ) ) ) ) ) ), * ( 2.3462255288566762, 3.2445178772081125 ) ) )\n",
      "\n",
      "Generation: 70; |P|: 500 Best fitness: 2.216783985603388\n",
      "+ ( x2, + ( 4.340904093577978, x1 ) )\n",
      "\n",
      "Generation: 71; |P|: 500 Best fitness: 2.216783985603388\n",
      "+ ( x2, + ( 4.340904093577978, x1 ) )\n",
      "\n",
      "Generation: 72; |P|: 500 Best fitness: 2.216783985603388\n",
      "+ ( x2, + ( 4.340904093577978, x1 ) )\n",
      "\n",
      "Generation: 73; |P|: 500 Best fitness: 2.314788134762875\n",
      "+ ( + ( 4.340904093577978, x1 ), + ( x2, / ( x2, * ( - ( x2, * ( x1, x1 ) ), + ( + ( x1, * ( x1, 1.8351461751612232 ) ), - ( x2, x2 ) ) ) ) ) )\n",
      "\n"
     ]
    },
    {
     "ename": "KeyboardInterrupt",
     "evalue": "",
     "output_type": "error",
     "traceback": [
      "\u001b[0;31m---------------------------------------------------------------------------\u001b[0m",
      "\u001b[0;31mKeyboardInterrupt\u001b[0m                         Traceback (most recent call last)",
      "Cell \u001b[0;32mIn[32], line 1\u001b[0m\n\u001b[0;32m----> 1\u001b[0m run()\n",
      "Cell \u001b[0;32mIn[31], line 5\u001b[0m, in \u001b[0;36mrun\u001b[0;34m()\u001b[0m\n\u001b[1;32m      2\u001b[0m population \u001b[38;5;241m=\u001b[39m init_population()\n\u001b[1;32m      4\u001b[0m \u001b[38;5;28;01mfor\u001b[39;00m i \u001b[38;5;129;01min\u001b[39;00m \u001b[38;5;28mrange\u001b[39m(GENERATIONS):\n\u001b[0;32m----> 5\u001b[0m     best_fitness, best_prog \u001b[38;5;241m=\u001b[39m get_best_fitness(population, cases)\n\u001b[1;32m      7\u001b[0m     \u001b[38;5;28mprint\u001b[39m(\u001b[38;5;124mf\u001b[39m\u001b[38;5;124m\"\u001b[39m\u001b[38;5;124mGeneration: \u001b[39m\u001b[38;5;132;01m{\u001b[39;00mi\u001b[38;5;132;01m}\u001b[39;00m\u001b[38;5;124m; |P|: \u001b[39m\u001b[38;5;132;01m{\u001b[39;00m\u001b[38;5;28mlen\u001b[39m(population)\u001b[38;5;132;01m}\u001b[39;00m\u001b[38;5;124m Best fitness: \u001b[39m\u001b[38;5;132;01m{\u001b[39;00mbest_fitness\u001b[38;5;132;01m}\u001b[39;00m\u001b[38;5;124m\"\u001b[39m)\n\u001b[1;32m      8\u001b[0m     \u001b[38;5;28mprint\u001b[39m(best_prog\u001b[38;5;241m.\u001b[39mto_str())\n",
      "Cell \u001b[0;32mIn[25], line 6\u001b[0m, in \u001b[0;36mget_best_fitness\u001b[0;34m(pop, cases)\u001b[0m\n\u001b[1;32m      3\u001b[0m best_prog \u001b[38;5;241m=\u001b[39m pop[\u001b[38;5;241m0\u001b[39m]\n\u001b[1;32m      5\u001b[0m \u001b[38;5;28;01mfor\u001b[39;00m prog \u001b[38;5;129;01min\u001b[39;00m pop[\u001b[38;5;241m1\u001b[39m:]:\n\u001b[0;32m----> 6\u001b[0m     fitness \u001b[38;5;241m=\u001b[39m raw_fitness(prog, cases)\n\u001b[1;32m      8\u001b[0m     \u001b[38;5;28;01mif\u001b[39;00m fitness \u001b[38;5;241m<\u001b[39m best_fitness:\n\u001b[1;32m      9\u001b[0m         best_fitness \u001b[38;5;241m=\u001b[39m fitness\n",
      "Cell \u001b[0;32mIn[24], line 4\u001b[0m, in \u001b[0;36mraw_fitness\u001b[0;34m(prog, cases)\u001b[0m\n\u001b[1;32m      2\u001b[0m fitness \u001b[38;5;241m=\u001b[39m \u001b[38;5;241m0\u001b[39m;\n\u001b[1;32m      3\u001b[0m \u001b[38;5;28;01mfor\u001b[39;00m i, case \u001b[38;5;129;01min\u001b[39;00m cases\u001b[38;5;241m.\u001b[39miterrows():\n\u001b[0;32m----> 4\u001b[0m     fitness \u001b[38;5;241m+\u001b[39m\u001b[38;5;241m=\u001b[39m \u001b[38;5;28mabs\u001b[39m(prog\u001b[38;5;241m.\u001b[39mexec(case) \u001b[38;5;241m-\u001b[39m case[\u001b[38;5;124m'\u001b[39m\u001b[38;5;124my\u001b[39m\u001b[38;5;124m'\u001b[39m])\n\u001b[1;32m      5\u001b[0m \u001b[38;5;28;01mreturn\u001b[39;00m fitness \u001b[38;5;241m/\u001b[39m \u001b[38;5;28mlen\u001b[39m(cases)\n",
      "Cell \u001b[0;32mIn[9], line 29\u001b[0m, in \u001b[0;36mNode.exec\u001b[0;34m(self, case)\u001b[0m\n\u001b[1;32m     27\u001b[0m \u001b[38;5;28;01mdef\u001b[39;00m \u001b[38;5;21mexec\u001b[39m(\u001b[38;5;28mself\u001b[39m, case: Iterable):\n\u001b[1;32m     28\u001b[0m     func \u001b[38;5;241m=\u001b[39m \u001b[38;5;28mself\u001b[39m\u001b[38;5;241m.\u001b[39mdata\n\u001b[0;32m---> 29\u001b[0m     args \u001b[38;5;241m=\u001b[39m [child\u001b[38;5;241m.\u001b[39mexec(case) \u001b[38;5;28;01mfor\u001b[39;00m child \u001b[38;5;129;01min\u001b[39;00m \u001b[38;5;28mself\u001b[39m\u001b[38;5;241m.\u001b[39mchildren]\n\u001b[1;32m     30\u001b[0m     \u001b[38;5;28;01mreturn\u001b[39;00m func\u001b[38;5;241m.\u001b[39mexec(\u001b[38;5;241m*\u001b[39margs)\n",
      "Cell \u001b[0;32mIn[9], line 29\u001b[0m, in \u001b[0;36mNode.exec\u001b[0;34m(self, case)\u001b[0m\n\u001b[1;32m     27\u001b[0m \u001b[38;5;28;01mdef\u001b[39;00m \u001b[38;5;21mexec\u001b[39m(\u001b[38;5;28mself\u001b[39m, case: Iterable):\n\u001b[1;32m     28\u001b[0m     func \u001b[38;5;241m=\u001b[39m \u001b[38;5;28mself\u001b[39m\u001b[38;5;241m.\u001b[39mdata\n\u001b[0;32m---> 29\u001b[0m     args \u001b[38;5;241m=\u001b[39m [child\u001b[38;5;241m.\u001b[39mexec(case) \u001b[38;5;28;01mfor\u001b[39;00m child \u001b[38;5;129;01min\u001b[39;00m \u001b[38;5;28mself\u001b[39m\u001b[38;5;241m.\u001b[39mchildren]\n\u001b[1;32m     30\u001b[0m     \u001b[38;5;28;01mreturn\u001b[39;00m func\u001b[38;5;241m.\u001b[39mexec(\u001b[38;5;241m*\u001b[39margs)\n",
      "    \u001b[0;31m[... skipping similar frames: Node.exec at line 29 (6 times)]\u001b[0m\n",
      "Cell \u001b[0;32mIn[9], line 29\u001b[0m, in \u001b[0;36mNode.exec\u001b[0;34m(self, case)\u001b[0m\n\u001b[1;32m     27\u001b[0m \u001b[38;5;28;01mdef\u001b[39;00m \u001b[38;5;21mexec\u001b[39m(\u001b[38;5;28mself\u001b[39m, case: Iterable):\n\u001b[1;32m     28\u001b[0m     func \u001b[38;5;241m=\u001b[39m \u001b[38;5;28mself\u001b[39m\u001b[38;5;241m.\u001b[39mdata\n\u001b[0;32m---> 29\u001b[0m     args \u001b[38;5;241m=\u001b[39m [child\u001b[38;5;241m.\u001b[39mexec(case) \u001b[38;5;28;01mfor\u001b[39;00m child \u001b[38;5;129;01min\u001b[39;00m \u001b[38;5;28mself\u001b[39m\u001b[38;5;241m.\u001b[39mchildren]\n\u001b[1;32m     30\u001b[0m     \u001b[38;5;28;01mreturn\u001b[39;00m func\u001b[38;5;241m.\u001b[39mexec(\u001b[38;5;241m*\u001b[39margs)\n",
      "\u001b[0;31mKeyboardInterrupt\u001b[0m: "
     ]
    }
   ],
   "source": [
    "run()"
   ]
  },
  {
   "cell_type": "code",
   "execution_count": null,
   "id": "853725b3-be8e-4244-be3e-17bab5b09904",
   "metadata": {},
   "outputs": [],
   "source": []
  }
 ],
 "metadata": {
  "kernelspec": {
   "display_name": "Python 3 (ipykernel)",
   "language": "python",
   "name": "python3"
  },
  "language_info": {
   "codemirror_mode": {
    "name": "ipython",
    "version": 3
   },
   "file_extension": ".py",
   "mimetype": "text/x-python",
   "name": "python",
   "nbconvert_exporter": "python",
   "pygments_lexer": "ipython3",
   "version": "3.12.7"
  }
 },
 "nbformat": 4,
 "nbformat_minor": 5
}
