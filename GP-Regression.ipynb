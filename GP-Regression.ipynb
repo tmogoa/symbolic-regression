{
 "cells": [
  {
   "cell_type": "markdown",
   "id": "03a4e2b3-80d5-4e00-a626-f95f77c66516",
   "metadata": {},
   "source": [
    "## Hyper-params"
   ]
  },
  {
   "cell_type": "code",
   "execution_count": 1,
   "id": "edfaac03-1812-409b-8a24-0ae98f24f518",
   "metadata": {},
   "outputs": [],
   "source": [
    "POPULATION_SIZE = 100\n",
    "MAX_DEPTH = 7;\n",
    "TOURNAMENT_SIZE = 2\n",
    "XOVER_APP_RATE = 80\n",
    "MUTATION_APP_RATE = 20\n",
    "GENERATIONS = 50\n",
    "FITNESS_THRESHOLD = 0.01\n",
    "APPLICATION_RATES = [XOVER_APP_RATE/MUTATION_APP_RATE, 1]\n",
    "MAX_RANDOM = 5\n",
    "MIN_RANDOM = 1\n",
    "RUNS = 10\n",
    "TRAINING_SET_SPLIT = 0.7 # out of 1"
   ]
  },
  {
   "cell_type": "markdown",
   "id": "78108984-15cf-4cd1-ab9e-9e6c03d3f257",
   "metadata": {},
   "source": [
    "# Definition"
   ]
  },
  {
   "cell_type": "markdown",
   "id": "513a3149-aac9-4c00-a33b-1077963a98e7",
   "metadata": {},
   "source": [
    "## Imports and Boilerplate"
   ]
  },
  {
   "cell_type": "code",
   "execution_count": 2,
   "id": "e6ee8cfb-4dd3-455f-ad13-d01922289930",
   "metadata": {},
   "outputs": [],
   "source": [
    "import os\n",
    "import subprocess\n",
    "import random\n",
    "from collections.abc import Callable\n",
    "from collections.abc import Iterable\n",
    "from functools import reduce\n",
    "import pandas as pd\n",
    "import numpy as np\n",
    "import copy\n",
    "import time\n",
    "import math"
   ]
  },
  {
   "cell_type": "code",
   "execution_count": 3,
   "id": "d8828e53-b477-4d65-a2e5-1a509383f128",
   "metadata": {},
   "outputs": [],
   "source": [
    "%matplotlib inline"
   ]
  },
  {
   "cell_type": "markdown",
   "id": "8e1d4200-440b-49b0-8e59-f49c6164ba45",
   "metadata": {},
   "source": [
    "## Seeding random numbers"
   ]
  },
  {
   "cell_type": "code",
   "execution_count": 4,
   "id": "b9d36336-28bc-400d-8504-0934feb9734c",
   "metadata": {},
   "outputs": [],
   "source": [
    "random.seed(257)"
   ]
  },
  {
   "cell_type": "markdown",
   "id": "9fb412e5-200b-4479-82c4-5b0f3fd22314",
   "metadata": {},
   "source": [
    "## Primitive, Terminal and Func classes"
   ]
  },
  {
   "cell_type": "code",
   "execution_count": 5,
   "id": "9595b602-b885-46c4-902d-8b07ab02a57d",
   "metadata": {},
   "outputs": [],
   "source": [
    "class Primitive():\n",
    "    def __init__(self, symbol: str, arity: int = 0):\n",
    "        self.symbol = symbol\n",
    "        \n",
    "    def print():\n",
    "        print(self.symbol)"
   ]
  },
  {
   "cell_type": "code",
   "execution_count": 6,
   "id": "947de980-71df-4aa1-988b-6e2794785768",
   "metadata": {},
   "outputs": [],
   "source": [
    "class Terminal(Primitive):\n",
    "    def __init__(self, symbol: str, arity: int = 0):\n",
    "        self.symbol = symbol"
   ]
  },
  {
   "cell_type": "code",
   "execution_count": 7,
   "id": "dc97c7e0-261d-44e2-8ba6-1b76b23252b4",
   "metadata": {},
   "outputs": [],
   "source": [
    "class RandomEphemeralConstant(Terminal):\n",
    "    def __init__(self, symbol = 'R', arity: int = 0):\n",
    "        self.symbol = random.uniform(MIN_RANDOM, MAX_RANDOM + 1)"
   ]
  },
  {
   "cell_type": "code",
   "execution_count": 8,
   "id": "643d63a7-5380-4bec-bd6d-84eb27703d8f",
   "metadata": {},
   "outputs": [],
   "source": [
    "class Func(Primitive):\n",
    "    def __init__(self, symbol: str, arity: int, func: Callable[..., ...]):\n",
    "        self.symbol = symbol\n",
    "        self.arity = arity\n",
    "        self.func = func\n",
    "        \n",
    "    def exec(self, *args):\n",
    "        return self.func(*args)"
   ]
  },
  {
   "cell_type": "markdown",
   "id": "4098bbfd-eba7-46cf-af0b-d365e8a04549",
   "metadata": {
    "jp-MarkdownHeadingCollapsed": true
   },
   "source": [
    "## Node and Leaf classes"
   ]
  },
  {
   "cell_type": "code",
   "execution_count": 9,
   "id": "3acbc5d1-f214-4dd1-99b0-5ffe792d3eab",
   "metadata": {},
   "outputs": [],
   "source": [
    "class Node():\n",
    "    def __init__(self, data: Primitive = None, *children):\n",
    "        self.children = list(children)\n",
    "        self.data = data\n",
    "\n",
    "    def add_children(self, *children):\n",
    "        if self.full(): raise Exception('Node is full')\n",
    "        self.children.extend(children)\n",
    "\n",
    "    def set_data(self, data):\n",
    "        self.data = data\n",
    "\n",
    "    def max_children(self):\n",
    "        return self.data.arity\n",
    "\n",
    "    def full(self):\n",
    "        return self.max_children() == self.degree()\n",
    "\n",
    "    def depth(self):\n",
    "        if not len(self.children): return 0\n",
    "        \n",
    "        return 1 + max(child.depth() for child in self.children)\n",
    "        \n",
    "    def degree(self):\n",
    "        return len(self.children)\n",
    "\n",
    "    def exec(self, case: Iterable):\n",
    "        func = self.data\n",
    "        args = [child.exec(case) for child in self.children]\n",
    "        return func.exec(*args)\n",
    "\n",
    "    def node_count(self):\n",
    "        return 1 + sum (child.node_count() for child in self.children)\n",
    "\n",
    "    '''\n",
    "        0 is the root\n",
    "    '''\n",
    "    def get_node_at(self, pos, index = 0):\n",
    "        if pos <= 0: return None\n",
    "        for child in self.children:\n",
    "            index = index + 1\n",
    "            if index == pos:\n",
    "                return child, index\n",
    "            else:\n",
    "                node, index = child.get_node_at(pos, index)\n",
    "                if node: return node, index\n",
    "                else: continue\n",
    "        return None, index\n",
    "\n",
    "    def set_node_at(self, pos, node, index = 0):\n",
    "        if pos <= 0: return None\n",
    "        for i, child in enumerate(self.children):\n",
    "            index = index + 1\n",
    "            if index == pos:\n",
    "                prev_node = child\n",
    "                self.children[i] = node\n",
    "                return prev_node, index\n",
    "            else:\n",
    "                prev_node, index = child.set_node_at(pos, node, index)\n",
    "                if prev_node: return prev_node, index\n",
    "                else: continue\n",
    "        return None, index\n",
    "\n",
    "    def is_oversized(self, max_depth = MAX_DEPTH):\n",
    "        return self.depth() > max_depth\n",
    "\n",
    "    def prune(self, depth = 1, max_depth = MAX_DEPTH):\n",
    "        if depth == max_depth:\n",
    "            self.children = [Leaf(t) for t in random.choices(terminal_set, k = self.data.arity)]\n",
    "            return\n",
    "\n",
    "        for child in self.children:\n",
    "            child.prune(depth + 1, max_depth)\n",
    "    \n",
    "    def print(self):\n",
    "        print(self.to_pretty_str())\n",
    "        \n",
    "    def to_str(self, depth = 0):\n",
    "        str = f\"{self.data.symbol} ( \"\n",
    "        \n",
    "        for i, child in enumerate(self.children):\n",
    "            str += child.to_str(depth + 1)\n",
    "            if i < self.degree() - 1: str += ', '\n",
    "                \n",
    "        str += f\" )\"\n",
    "\n",
    "        return str\n",
    "        \n",
    "    def to_pretty_str(self, depth = 0):\n",
    "        str = f\"{self.data.symbol} (\"\n",
    "        \n",
    "        for i, child in enumerate(self.children):\n",
    "            str += f\"\\n{(depth + 1) * '\\t'}\"\n",
    "            str += child.to_pretty_str(depth + 1)\n",
    "            if i < self.degree() - 1: str += ','\n",
    "                \n",
    "        str += f\"\\n{depth * '\\t'})\"\n",
    "\n",
    "        return str"
   ]
  },
  {
   "cell_type": "code",
   "execution_count": 10,
   "id": "a2b3ff9d-95b4-4afb-b60c-e80ceeddba82",
   "metadata": {},
   "outputs": [],
   "source": [
    "class Leaf(Node):\n",
    "    def __init__(self, data: Primitive):\n",
    "        self.data = data\n",
    "\n",
    "    def depth(self):\n",
    "        return 0;\n",
    "\n",
    "    def max_children(self):\n",
    "        return 0;\n",
    "\n",
    "    def full(self):\n",
    "        return True;\n",
    "\n",
    "    def exec(self, case: Iterable):\n",
    "        terminal = self.data\n",
    "        \n",
    "        if isinstance(terminal, RandomEphemeralConstant): return terminal.symbol\n",
    "            \n",
    "        return case[terminal.symbol]\n",
    "\n",
    "    def node_count(self):\n",
    "        return 1\n",
    "\n",
    "    def get_node_at(self, pos, pointer = 0):\n",
    "        return None, pointer\n",
    "        \n",
    "    def set_node_at(self, pos, node: Node, pointer = 0):\n",
    "        return None, pointer\n",
    "\n",
    "    def prune(self, depth = 1, max_depth = MAX_DEPTH):\n",
    "        return\n",
    "\n",
    "    def print(self):\n",
    "        print(self.to_pretty_str())\n",
    "        \n",
    "    def to_pretty_str(self, depth = 0):\n",
    "        return self.data.symbol\n",
    "        \n",
    "    def to_str(self, depth = 0):\n",
    "        return str(self.data.symbol)     "
   ]
  },
  {
   "cell_type": "markdown",
   "id": "7c963beb-3144-4840-8dea-7d44305faa14",
   "metadata": {},
   "source": [
    "## Initial Population Generation"
   ]
  },
  {
   "cell_type": "code",
   "execution_count": 11,
   "id": "0c49540b-11de-43e6-befc-9ae3e68d060a",
   "metadata": {},
   "outputs": [],
   "source": [
    "def grow(node: Node, depth: int = 1, max_depth = MAX_DEPTH):\n",
    "    TERMINAL = 0;\n",
    "    FUNCTION = 1;\n",
    "    \n",
    "    primitive = random.choice([0,1])\n",
    "\n",
    "    if node.full(): return\n",
    "\n",
    "    if(primitive == TERMINAL or depth >= max_depth):\n",
    "        terminal = random.choice(terminal_set)\n",
    "        \n",
    "        child = None\n",
    "        \n",
    "        if isinstance(terminal, RandomEphemeralConstant): child = Leaf(RandomEphemeralConstant())\n",
    "            \n",
    "        else: child = Leaf(terminal)\n",
    "            \n",
    "        node.add_children(child)\n",
    "        if not node.full():\n",
    "            grow(node, depth, max_depth)\n",
    "    \n",
    "    if(primitive == FUNCTION and depth < max_depth):\n",
    "        child = Node(random.choice(function_set))\n",
    "        node.add_children(child)\n",
    "        grow(child, depth + 1, max_depth)\n",
    "        if not node.full():\n",
    "            grow(node, depth, max_depth)"
   ]
  },
  {
   "cell_type": "code",
   "execution_count": 12,
   "id": "44690456-6061-4c63-881b-8d68dc8f8ca7",
   "metadata": {},
   "outputs": [],
   "source": [
    "def is_duplicate(population: [str], indiv: Node) -> bool:\n",
    "    for i in population:\n",
    "        if i == indiv.to_str(): return True\n",
    "    return False"
   ]
  },
  {
   "cell_type": "code",
   "execution_count": 13,
   "id": "4124ca28-ee8e-4191-ba00-dde2486c4001",
   "metadata": {},
   "outputs": [],
   "source": [
    "def init_population(size = 50, method = 'grow') -> ([Node], []):\n",
    "    population = []\n",
    "    population_expressions = []\n",
    "    \n",
    "    for i in range(size):\n",
    "        \n",
    "        indiv = init_individual(method)\n",
    "        \n",
    "        while(is_duplicate(population_expressions, indiv)):\n",
    "            indiv = init_individual(method)\n",
    "            \n",
    "        population.append(indiv)\n",
    "        population_expressions.append(indiv.to_str())\n",
    "            \n",
    "    return population"
   ]
  },
  {
   "cell_type": "code",
   "execution_count": 14,
   "id": "8070a14b-6352-4b88-8f93-2b3c359a564f",
   "metadata": {},
   "outputs": [],
   "source": [
    "def init_individual(method = 'grow', leaf_root: bool = False):\n",
    "    roots = [ \n",
    "        Node(random.choice(function_set))\n",
    "    ]\n",
    "\n",
    "    if leaf_root: \n",
    "        terminal = random.choice(terminal_set);\n",
    "        \n",
    "        if isinstance(terminal, RandomEphemeralConstant): roots.append(Leaf(RandomEphemeralConstant()))\n",
    "            \n",
    "        else: roots.append(Leaf(terminal))\n",
    "\n",
    "    individual = random.choice(roots)\n",
    "    match method:\n",
    "        case 'grow':\n",
    "            grow(individual)\n",
    "            return individual\n",
    "        case _:\n",
    "            pass"
   ]
  },
  {
   "cell_type": "markdown",
   "id": "fc26ae39-9d60-4723-aa95-9dd7731bdde3",
   "metadata": {},
   "source": [
    "# Execution"
   ]
  },
  {
   "cell_type": "markdown",
   "id": "495e1b2a-d553-41e8-8843-8e60a86cca2b",
   "metadata": {},
   "source": [
    "## Fitness Cases (Dataset)"
   ]
  },
  {
   "cell_type": "code",
   "execution_count": 15,
   "id": "ea386fec-f4ab-46b6-b02c-807004bc2945",
   "metadata": {},
   "outputs": [],
   "source": [
    "dataset_url = \"192_vineyard.tsv\"\n",
    "\n",
    "dataset = pd.read_csv(dataset_url, sep = '\\t')\n",
    "\n",
    "# shuffle the dataset\n",
    "dataset = dataset.sample(frac = 1, random_state = 123)\n",
    "\n",
    "dataset.columns = ['x1', 'x2', 'y']\n",
    "\n",
    "num_cases = dataset.shape[0]\n",
    "\n",
    "num_train_cases = math.floor(TRAINING_SET_SPLIT * num_cases)\n",
    "\n",
    "\n",
    "train_cases = dataset.iloc[:num_train_cases - 1, :]\n",
    "\n",
    "test_cases = dataset.iloc[num_train_cases:, :]"
   ]
  },
  {
   "cell_type": "code",
   "execution_count": 16,
   "id": "c74bef28-bfb0-474e-b2c3-08e5b882cc90",
   "metadata": {},
   "outputs": [
    {
     "data": {
      "text/plain": [
       "(35, 3)"
      ]
     },
     "execution_count": 16,
     "metadata": {},
     "output_type": "execute_result"
    }
   ],
   "source": [
    "train_cases.shape"
   ]
  },
  {
   "cell_type": "code",
   "execution_count": 17,
   "id": "c45a997f-d60a-4e64-bf68-64bff77afe09",
   "metadata": {},
   "outputs": [
    {
     "data": {
      "text/html": [
       "<div>\n",
       "<style scoped>\n",
       "    .dataframe tbody tr th:only-of-type {\n",
       "        vertical-align: middle;\n",
       "    }\n",
       "\n",
       "    .dataframe tbody tr th {\n",
       "        vertical-align: top;\n",
       "    }\n",
       "\n",
       "    .dataframe thead th {\n",
       "        text-align: right;\n",
       "    }\n",
       "</style>\n",
       "<table border=\"1\" class=\"dataframe\">\n",
       "  <thead>\n",
       "    <tr style=\"text-align: right;\">\n",
       "      <th></th>\n",
       "      <th>x1</th>\n",
       "      <th>x2</th>\n",
       "      <th>y</th>\n",
       "    </tr>\n",
       "  </thead>\n",
       "  <tbody>\n",
       "    <tr>\n",
       "      <th>48</th>\n",
       "      <td>0.5</td>\n",
       "      <td>8.0</td>\n",
       "      <td>11.0</td>\n",
       "    </tr>\n",
       "    <tr>\n",
       "      <th>35</th>\n",
       "      <td>3.0</td>\n",
       "      <td>10.0</td>\n",
       "      <td>17.0</td>\n",
       "    </tr>\n",
       "    <tr>\n",
       "      <th>30</th>\n",
       "      <td>3.0</td>\n",
       "      <td>8.0</td>\n",
       "      <td>15.0</td>\n",
       "    </tr>\n",
       "  </tbody>\n",
       "</table>\n",
       "</div>"
      ],
      "text/plain": [
       "     x1    x2     y\n",
       "48  0.5   8.0  11.0\n",
       "35  3.0  10.0  17.0\n",
       "30  3.0   8.0  15.0"
      ]
     },
     "execution_count": 17,
     "metadata": {},
     "output_type": "execute_result"
    }
   ],
   "source": [
    "train_cases.head(3)"
   ]
  },
  {
   "cell_type": "markdown",
   "id": "988b32e2-97fc-4650-b86e-769d7c4419eb",
   "metadata": {
    "jp-MarkdownHeadingCollapsed": true
   },
   "source": [
    "## Primitive Sets"
   ]
  },
  {
   "cell_type": "code",
   "execution_count": 18,
   "id": "4ae8ab6e-4dc8-4708-8688-e043b3e1f817",
   "metadata": {},
   "outputs": [],
   "source": [
    "terminal_set = [Terminal('x1'), Terminal('x2'), RandomEphemeralConstant()]"
   ]
  },
  {
   "cell_type": "code",
   "execution_count": 19,
   "id": "f1972c51-9228-4121-af1f-7a2a87814a6b",
   "metadata": {},
   "outputs": [],
   "source": [
    "def add(*args): return sum(args)"
   ]
  },
  {
   "cell_type": "code",
   "execution_count": 20,
   "id": "62c2ef9f-2c31-4d4b-81fe-04b7d8357eab",
   "metadata": {},
   "outputs": [],
   "source": [
    "def minus(minuend, subtrahend): return minuend - subtrahend"
   ]
  },
  {
   "cell_type": "code",
   "execution_count": 21,
   "id": "b0355eaa-e649-49b5-a939-e8e9589ff32d",
   "metadata": {},
   "outputs": [],
   "source": [
    "def mul(*args): return reduce(lambda x, y: x * y, args)"
   ]
  },
  {
   "cell_type": "code",
   "execution_count": 22,
   "id": "3f9f0072-4b7e-47a0-9014-4368b094860b",
   "metadata": {},
   "outputs": [],
   "source": [
    "def div(num, den): return 1 if den == 0 else num / den"
   ]
  },
  {
   "cell_type": "code",
   "execution_count": 23,
   "id": "5345cc19-d16a-4c3f-810a-c23d14dfde31",
   "metadata": {},
   "outputs": [],
   "source": [
    "function_set = [\n",
    "    Func('+', 2, add), \n",
    "    Func('-', 2, minus), \n",
    "    Func('*', 2, mul), \n",
    "    Func('/', 2, div)]"
   ]
  },
  {
   "cell_type": "markdown",
   "id": "1b4389b7-d966-460c-9f0e-53bcd20ea2dc",
   "metadata": {},
   "source": [
    "## Fitness Calculation"
   ]
  },
  {
   "cell_type": "code",
   "execution_count": 24,
   "id": "a62c8421-0dc6-448f-8d23-c9593af3df43",
   "metadata": {},
   "outputs": [],
   "source": [
    "def raw_fitness(prog: Node, cases: Iterable):\n",
    "    fitness = 0;\n",
    "    for i, case in cases.iterrows():\n",
    "        fitness += abs(prog.exec(case) - case['y'])\n",
    "    return fitness / len(cases);"
   ]
  },
  {
   "cell_type": "code",
   "execution_count": 25,
   "id": "115cb87c-7196-40fa-9c2b-21d8122a61a5",
   "metadata": {},
   "outputs": [],
   "source": [
    "def mean_std_of_objective_values(prog: Node, cases: Iterable):\n",
    "    objective_values = [];\n",
    "    for i, case in cases.iterrows():\n",
    "        objective_values.append(prog.exec(case))\n",
    "    objective_values = np.array(objective_values)\n",
    "    return np.mean(objective_values), np.std(objective_values)"
   ]
  },
  {
   "cell_type": "code",
   "execution_count": 26,
   "id": "41c51c33-b684-48a7-87f4-8aedaca59a58",
   "metadata": {},
   "outputs": [],
   "source": [
    "def fitness_stats(pop: [Node], cases: Iterable):\n",
    "    best_fitness = raw_fitness(pop[0], cases)\n",
    "    best_prog = pop[0]\n",
    "    \n",
    "    for prog in pop[1:]:\n",
    "        fitness = raw_fitness(prog, cases)\n",
    "\n",
    "        if fitness < best_fitness:\n",
    "            best_fitness = fitness\n",
    "            best_prog = prog\n",
    "                \n",
    "    return best_fitness, best_prog, *mean_std_of_objective_values(best_prog, test_cases)"
   ]
  },
  {
   "cell_type": "markdown",
   "id": "2f8c494a-0e56-4ceb-b870-519df3d32bd8",
   "metadata": {},
   "source": [
    "## Selection"
   ]
  },
  {
   "cell_type": "code",
   "execution_count": 27,
   "id": "22321b98-6a1c-4fff-8166-217df807d624",
   "metadata": {},
   "outputs": [],
   "source": [
    "def tournament_select(population: [Node], cases, size = 2) -> Node:\n",
    "    programs = random.choices(population, k = size)\n",
    "    fitness = [0] * size\n",
    "    for i, prog in enumerate(programs):\n",
    "        fitness[i] = raw_fitness(prog, cases)\n",
    "    \n",
    "    selected_index = np.array(fitness, dtype=int).argsort()[0]\n",
    "    return programs[selected_index]\n",
    "        "
   ]
  },
  {
   "cell_type": "markdown",
   "id": "5c73c4eb-5bd2-4b00-a7ef-4c2b98c6680a",
   "metadata": {
    "jp-MarkdownHeadingCollapsed": true
   },
   "source": [
    "## Genetic Operators"
   ]
  },
  {
   "cell_type": "code",
   "execution_count": 28,
   "id": "ccfb8c25-8958-4023-acf2-97971ce55a41",
   "metadata": {},
   "outputs": [],
   "source": [
    "def crossover(parent1: Node, parent2: Node) -> [Node]:\n",
    "    offspring1 = copy.deepcopy(parent1);\n",
    "    offspring2 = copy.deepcopy(parent2);\n",
    "\n",
    "    fragment1_pos = random.randrange(1, offspring1.node_count())\n",
    "    fragment2_pos = random.randrange(1, offspring2.node_count())\n",
    "\n",
    "    fragment1 = offspring1.get_node_at(fragment1_pos)[0]\n",
    "    fragment2 = offspring2.get_node_at(fragment2_pos)[0]\n",
    "\n",
    "    offspring2.set_node_at(fragment2_pos, fragment1)\n",
    "    offspring1.set_node_at(fragment1_pos, fragment2)\n",
    "\n",
    "    return [offspring1, offspring2]"
   ]
  },
  {
   "cell_type": "code",
   "execution_count": 29,
   "id": "22616061-51ff-48be-8aba-9435c5bdf7f8",
   "metadata": {},
   "outputs": [],
   "source": [
    "def mutate(parent: Node) -> Node:\n",
    "    mutant = copy.deepcopy(parent);\n",
    "    \n",
    "    point = random.randrange(1, mutant.node_count());\n",
    "\n",
    "    fragment = init_individual(method='grow', leaf_root=True)\n",
    "\n",
    "    mutant.set_node_at(point, fragment)\n",
    "\n",
    "    return mutant"
   ]
  },
  {
   "cell_type": "markdown",
   "id": "b8fa3b44-a76c-4a1b-8b4a-6cf2756f8968",
   "metadata": {},
   "source": [
    "## Evolution"
   ]
  },
  {
   "cell_type": "code",
   "execution_count": 30,
   "id": "a002355f-1e0a-40a5-be81-9a221346b83a",
   "metadata": {},
   "outputs": [],
   "source": [
    "operators = ['crossover', 'mutation']"
   ]
  },
  {
   "cell_type": "code",
   "execution_count": 31,
   "id": "71b2c358-b810-4318-ac11-489fda3777a0",
   "metadata": {},
   "outputs": [],
   "source": [
    "def gen_next_population(population: [Node]) -> [Node]:\n",
    "    next_population = []\n",
    "\n",
    "    while len(next_population) < POPULATION_SIZE:\n",
    "        operator = random.choices(operators, weights=APPLICATION_RATES)\n",
    "        \n",
    "        match operator[0]:\n",
    "            case 'crossover':\n",
    "                parent1 = tournament_select(population, train_cases, size = TOURNAMENT_SIZE)\n",
    "                parent2 = tournament_select(population, train_cases, size = TOURNAMENT_SIZE)\n",
    "\n",
    "                offsprings = crossover(parent1, parent2)\n",
    "\n",
    "                if(offsprings[0].is_oversized()): offsprings[0].prune()\n",
    "                    \n",
    "                if(offsprings[1].is_oversized()): offsprings[1].prune()\n",
    "                    \n",
    "                next_population.append(offsprings[0])\n",
    "\n",
    "                if len(next_population) == POPULATION_SIZE : break\n",
    "                    \n",
    "                else: next_population.append(offsprings[1])\n",
    "            case 'mutation':\n",
    "                parent = tournament_select(population, train_cases, size = TOURNAMENT_SIZE)\n",
    "\n",
    "                mutant = mutate(parent)\n",
    "\n",
    "                if(mutant.is_oversized()): mutant.prune()\n",
    "\n",
    "                next_population.append(mutant)\n",
    "    return next_population\n",
    "        "
   ]
  },
  {
   "cell_type": "code",
   "execution_count": 32,
   "id": "79f36357-a5d6-4559-846c-2b7bc94b875a",
   "metadata": {},
   "outputs": [],
   "source": [
    "def run():\n",
    "    seed = time.time()\n",
    "    \n",
    "    random.seed(seed)\n",
    "    \n",
    "    population = init_population()\n",
    "\n",
    "    best_fitness, best_prog, mean, std = fitness_stats(population, train_cases)\n",
    "\n",
    "    for i in range(GENERATIONS):\n",
    "        population = gen_next_population(population);\n",
    "        \n",
    "        g_best_fitness, g_best_prog, g_mean, g_std = fitness_stats(population, train_cases)\n",
    "\n",
    "        # print(f\"Generation: {i}; |P|: {len(population)} Best fitness: {g_best_fitness}\")\n",
    "        # print(g_best_prog.to_str())\n",
    "        # print()\n",
    "\n",
    "        if g_best_fitness < best_fitness: \n",
    "            best_fitness = g_best_fitness\n",
    "            best_prog = g_best_prog\n",
    "            mean = g_mean\n",
    "            std = g_std\n",
    "        \n",
    "        if best_fitness <= FITNESS_THRESHOLD:\n",
    "            best_prog.print()\n",
    "            break\n",
    "\n",
    "    best_test_fitness = raw_fitness(best_prog, test_cases)\n",
    "    \n",
    "    print(f'''\n",
    "            Seed: {seed};\\n\n",
    "            Best train fitness (MAS): {best_fitness};\\n\n",
    "            Best test fitness (MAS): {best_test_fitness}\\n\n",
    "            Mean: {mean}\\n\n",
    "            Standard deviation: {std}\n",
    "        '''\n",
    "    )\n",
    "    print(best_prog.to_str())\n",
    "    \n",
    "    print()     "
   ]
  },
  {
   "cell_type": "markdown",
   "id": "2b109d39-28b9-4c12-be2e-95910883f762",
   "metadata": {},
   "source": [
    "## Run"
   ]
  },
  {
   "cell_type": "code",
   "execution_count": 33,
   "id": "b37a5634-7f66-4499-a2c5-82c43b93b78c",
   "metadata": {},
   "outputs": [
    {
     "name": "stdout",
     "output_type": "stream",
     "text": [
      "Run: 0 out of 10\n",
      "\n",
      "            Seed: 1742510654.6653671;\n",
      "\n",
      "            Best train fitness (MAS): 2.1200469884226494;\n",
      "\n",
      "            Best test fitness (MAS): 2.4002055743490907\n",
      "\n",
      "            Mean: 17.079605405207275\n",
      "\n",
      "            Standard deviation: 4.330014253729426\n",
      "        \n",
      "+ ( + ( x2, + ( x1, 4.515035969091594 ) ), / ( / ( x1, x1 ), 3.5295848873272924 ) )\n",
      "\n",
      "Run: 1 out of 10\n",
      "\n",
      "            Seed: 1742510679.3093922;\n",
      "\n",
      "            Best train fitness (MAS): 2.1013844142605316;\n",
      "\n",
      "            Best test fitness (MAS): 2.230863624779654\n",
      "\n",
      "            Mean: 17.173454499118616\n",
      "\n",
      "            Standard deviation: 4.70870205045934\n",
      "        \n",
      "+ ( 5.048454499118617, * ( / ( + ( x1, x2 ), x1 ), x1 ) )\n",
      "\n",
      "Run: 2 out of 10\n",
      "\n",
      "            Seed: 1742510692.471257;\n",
      "\n",
      "            Best train fitness (MAS): 2.1680196898491375;\n",
      "\n",
      "            Best test fitness (MAS): 2.4621551632985677\n",
      "\n",
      "            Mean: 16.58400869361146\n",
      "\n",
      "            Standard deviation: 4.330014253729426\n",
      "        \n",
      "- ( + ( x2, + ( x1, 5.7471913092333065 ) ), 1.4444326156218485 )\n",
      "\n",
      "Run: 3 out of 10\n",
      "\n",
      "            Seed: 1742510705.7307873;\n",
      "\n",
      "            Best train fitness (MAS): 2.1144672514913267;\n",
      "\n",
      "            Best test fitness (MAS): 2.3755294835163703\n",
      "\n",
      "            Mean: 17.28336793406548\n",
      "\n",
      "            Standard deviation: 4.330014253729427\n",
      "        \n",
      "+ ( + ( 5.002117934065479, x1 ), x2 )\n",
      "\n",
      "Run: 4 out of 10\n",
      "\n",
      "            Seed: 1742510720.02126;\n",
      "\n",
      "            Best train fitness (MAS): 2.1231077674619985;\n",
      "\n",
      "            Best test fitness (MAS): 2.413596482646243\n",
      "\n",
      "            Mean: 16.972478138830056\n",
      "\n",
      "            Standard deviation: 4.330014253729426\n",
      "        \n",
      "+ ( + ( 4.691228138830055, x1 ), x2 )\n",
      "\n",
      "Run: 5 out of 10\n",
      "\n",
      "            Seed: 1742510733.1528425;\n",
      "\n",
      "            Best train fitness (MAS): 2.125192561655339;\n",
      "\n",
      "            Best test fitness (MAS): 2.406811638161405\n",
      "\n",
      "            Mean: 17.40849655264562\n",
      "\n",
      "            Standard deviation: 4.330014253729426\n",
      "        \n",
      "+ ( x2, + ( x1, 5.127246552645619 ) )\n",
      "\n",
      "Run: 6 out of 10\n",
      "\n",
      "            Seed: 1742510746.3796449;\n",
      "\n",
      "            Best train fitness (MAS): 2.1147430792173156;\n",
      "\n",
      "            Best test fitness (MAS): 2.3763339810505038\n",
      "\n",
      "            Mean: 17.286585924202015\n",
      "\n",
      "            Standard deviation: 4.330014253729427\n",
      "        \n",
      "+ ( + ( x1, + ( 3.8957453492453684, - ( + ( 2.1373756548241154, x2 ), 5.958620013503802 ) ) ), 4.930834933636332 )\n",
      "\n",
      "Run: 7 out of 10\n",
      "\n",
      "            Seed: 1742510761.3882248;\n",
      "\n",
      "            Best train fitness (MAS): 2.119991613120454;\n",
      "\n",
      "            Best test fitness (MAS): 2.3999633074019853\n",
      "\n",
      "            Mean: 17.081543540784118\n",
      "\n",
      "            Standard deviation: 4.330014253729426\n",
      "        \n",
      "+ ( + ( x1, x2 ), * ( 1.8779206470313055, 2.5561748566813094 ) )\n",
      "\n",
      "Run: 8 out of 10\n",
      "\n",
      "            Seed: 1742510775.5896575;\n",
      "\n",
      "            Best train fitness (MAS): 2.0911465276515044;\n",
      "\n",
      "            Best test fitness (MAS): 2.3320934407515037\n",
      "\n",
      "            Mean: 18.013811148092056\n",
      "\n",
      "            Standard deviation: 2.8181843904006194\n",
      "        \n",
      "+ ( + ( + ( / ( x1, x1 ), + ( / ( x2, 2.585320324126493 ), 5.820421749163104 ) ), x1 ), 4.603408724818143 )\n",
      "\n",
      "Run: 9 out of 10\n",
      "\n",
      "            Seed: 1742510793.3725767;\n",
      "\n",
      "            Best train fitness (MAS): 2.115588511081652;\n",
      "\n",
      "            Best test fitness (MAS): 2.3787998239881523\n",
      "\n",
      "            Mean: 17.29644929595261\n",
      "\n",
      "            Standard deviation: 4.330014253729426\n",
      "        \n",
      "+ ( + ( 5.01519929595261, x1 ), x2 )\n",
      "\n"
     ]
    }
   ],
   "source": [
    "for i in range(RUNS):\n",
    "    print(f\"Run: {i} out of {RUNS}\")\n",
    "    run()"
   ]
  }
 ],
 "metadata": {
  "kernelspec": {
   "display_name": "Python 3 (ipykernel)",
   "language": "python",
   "name": "python3"
  },
  "language_info": {
   "codemirror_mode": {
    "name": "ipython",
    "version": 3
   },
   "file_extension": ".py",
   "mimetype": "text/x-python",
   "name": "python",
   "nbconvert_exporter": "python",
   "pygments_lexer": "ipython3",
   "version": "3.12.7"
  }
 },
 "nbformat": 4,
 "nbformat_minor": 5
}
