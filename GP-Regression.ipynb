{
 "cells": [
  {
   "cell_type": "markdown",
   "id": "03a4e2b3-80d5-4e00-a626-f95f77c66516",
   "metadata": {},
   "source": [
    "## Hyper-params"
   ]
  },
  {
   "cell_type": "code",
   "execution_count": 33,
   "id": "edfaac03-1812-409b-8a24-0ae98f24f518",
   "metadata": {},
   "outputs": [],
   "source": [
    "POPULATION_SIZE = 500\n",
    "MAX_DEPTH = 10;\n",
    "TOURNAMENT_SIZE = 2\n",
    "XOVER_APP_RATE = 75\n",
    "MUTATION_APP_RATE = 25\n",
    "GENERATIONS = 50\n",
    "FITNESS_THRESHOLD = 1e-5\n",
    "APPLICATION_RATES = [XOVER_APP_RATE/MUTATION_APP_RATE, 1]"
   ]
  },
  {
   "cell_type": "markdown",
   "id": "78108984-15cf-4cd1-ab9e-9e6c03d3f257",
   "metadata": {
    "jp-MarkdownHeadingCollapsed": true
   },
   "source": [
    "# Definition"
   ]
  },
  {
   "cell_type": "markdown",
   "id": "513a3149-aac9-4c00-a33b-1077963a98e7",
   "metadata": {},
   "source": [
    "## Imports and Boilerplate"
   ]
  },
  {
   "cell_type": "code",
   "execution_count": 2,
   "id": "e6ee8cfb-4dd3-455f-ad13-d01922289930",
   "metadata": {},
   "outputs": [],
   "source": [
    "import os\n",
    "import subprocess\n",
    "import random\n",
    "from collections.abc import Callable\n",
    "from collections.abc import Iterable\n",
    "from functools import reduce\n",
    "import pandas as pd\n",
    "import numpy as np\n",
    "import copy"
   ]
  },
  {
   "cell_type": "code",
   "execution_count": 3,
   "id": "d8828e53-b477-4d65-a2e5-1a509383f128",
   "metadata": {},
   "outputs": [],
   "source": [
    "%matplotlib inline"
   ]
  },
  {
   "cell_type": "markdown",
   "id": "8e1d4200-440b-49b0-8e59-f49c6164ba45",
   "metadata": {},
   "source": [
    "## Seeding random numbers"
   ]
  },
  {
   "cell_type": "code",
   "execution_count": 4,
   "id": "b9d36336-28bc-400d-8504-0934feb9734c",
   "metadata": {},
   "outputs": [],
   "source": [
    "random.seed(257)"
   ]
  },
  {
   "cell_type": "markdown",
   "id": "9fb412e5-200b-4479-82c4-5b0f3fd22314",
   "metadata": {},
   "source": [
    "## Primitive, Terminal and Func classes"
   ]
  },
  {
   "cell_type": "code",
   "execution_count": 5,
   "id": "9595b602-b885-46c4-902d-8b07ab02a57d",
   "metadata": {},
   "outputs": [],
   "source": [
    "class Primitive():\n",
    "    def __init__(self, symbol: str, arity: int = 0):\n",
    "        self.symbol = symbol\n",
    "        \n",
    "    def print():\n",
    "        print(self.symbol)"
   ]
  },
  {
   "cell_type": "code",
   "execution_count": 6,
   "id": "947de980-71df-4aa1-988b-6e2794785768",
   "metadata": {},
   "outputs": [],
   "source": [
    "class Terminal(Primitive):\n",
    "    def __init__(self, symbol: str, arity: int = 0):\n",
    "        self.symbol = symbol"
   ]
  },
  {
   "cell_type": "code",
   "execution_count": 7,
   "id": "643d63a7-5380-4bec-bd6d-84eb27703d8f",
   "metadata": {},
   "outputs": [],
   "source": [
    "class Func(Primitive):\n",
    "    def __init__(self, symbol: str, arity: int, func: Callable[..., ...]):\n",
    "        self.symbol = symbol\n",
    "        self.arity = arity\n",
    "        self.func = func\n",
    "        \n",
    "    def exec(self, *args):\n",
    "        return self.func(*args)"
   ]
  },
  {
   "cell_type": "markdown",
   "id": "4098bbfd-eba7-46cf-af0b-d365e8a04549",
   "metadata": {},
   "source": [
    "## Node and Leaf classes"
   ]
  },
  {
   "cell_type": "code",
   "execution_count": 8,
   "id": "3acbc5d1-f214-4dd1-99b0-5ffe792d3eab",
   "metadata": {},
   "outputs": [],
   "source": [
    "class Node():\n",
    "    def __init__(self, data: Primitive = None, *children):\n",
    "        self.children = list(children)\n",
    "        self.data = data\n",
    "\n",
    "    def add_children(self, *children):\n",
    "        if self.full(): raise Exception('Node is full')\n",
    "        self.children.extend(children)\n",
    "\n",
    "    def set_data(self, data):\n",
    "        self.data = data\n",
    "\n",
    "    def max_children(self):\n",
    "        return self.data.arity\n",
    "\n",
    "    def full(self):\n",
    "        return self.max_children() == self.degree()\n",
    "\n",
    "    def depth(self):\n",
    "        if not len(self.children): return 0\n",
    "        \n",
    "        return 1 + max(child.depth() for child in self.children)\n",
    "        \n",
    "    def degree(self):\n",
    "        return len(self.children)\n",
    "\n",
    "    def exec(self, case: Iterable):\n",
    "        func = self.data\n",
    "        args = [child.exec(case) for child in self.children]\n",
    "        return func.exec(*args)\n",
    "\n",
    "    def node_count(self):\n",
    "        return 1 + sum (child.node_count() for child in self.children)\n",
    "\n",
    "    '''\n",
    "        0 is the root\n",
    "    '''\n",
    "    def get_node_at(self, pos, index = 0):\n",
    "        if pos <= 0: return None\n",
    "        for child in self.children:\n",
    "            index = index + 1\n",
    "            if index == pos:\n",
    "                return child, index\n",
    "            else:\n",
    "                node, index = child.get_node_at(pos, index)\n",
    "                if node: return node, index\n",
    "                else: continue\n",
    "        return None, index\n",
    "\n",
    "    def set_node_at(self, pos, node, index = 0):\n",
    "        if pos <= 0: return None\n",
    "        for i, child in enumerate(self.children):\n",
    "            index = index + 1\n",
    "            if index == pos:\n",
    "                prev_node = child\n",
    "                self.children[i] = node\n",
    "                return prev_node, index\n",
    "            else:\n",
    "                prev_node, index = child.set_node_at(pos, node, index)\n",
    "                if prev_node: return prev_node, index\n",
    "                else: continue\n",
    "        return None, index\n",
    "\n",
    "    def is_fully_deep(self, max_depth = MAX_DEPTH):\n",
    "        return not(self.depth() < max_depth)\n",
    "\n",
    "    def prune(self, depth = 1, max_depth = MAX_DEPTH):\n",
    "        if depth == max_depth:\n",
    "            self.children = [Leaf(t) for t in random.choices(terminal_set, k = self.data.arity)]\n",
    "            return\n",
    "\n",
    "        for child in self.children:\n",
    "            child.prune(depth + 1, max_depth)\n",
    "    \n",
    "    def print(self):\n",
    "        print(self.to_pretty_str())\n",
    "        \n",
    "    def to_str(self, depth = 0):\n",
    "        str = f\"{self.data.symbol} ( \"\n",
    "        \n",
    "        for i, child in enumerate(self.children):\n",
    "            str += child.to_str(depth + 1)\n",
    "            if i < self.degree() - 1: str += ', '\n",
    "                \n",
    "        str += f\" )\"\n",
    "\n",
    "        return str\n",
    "        \n",
    "    def to_pretty_str(self, depth = 0):\n",
    "        str = f\"{self.data.symbol} (\"\n",
    "        \n",
    "        for i, child in enumerate(self.children):\n",
    "            str += f\"\\n{(depth + 1) * '\\t'}\"\n",
    "            str += child.to_pretty_str(depth + 1)\n",
    "            if i < self.degree() - 1: str += ','\n",
    "                \n",
    "        str += f\"\\n{depth * '\\t'})\"\n",
    "\n",
    "        return str"
   ]
  },
  {
   "cell_type": "code",
   "execution_count": 9,
   "id": "a2b3ff9d-95b4-4afb-b60c-e80ceeddba82",
   "metadata": {},
   "outputs": [],
   "source": [
    "class Leaf(Node):\n",
    "    def __init__(self, data: Primitive):\n",
    "        self.data = data\n",
    "\n",
    "    def depth(self):\n",
    "        return 0;\n",
    "\n",
    "    def max_children(self):\n",
    "        return 0;\n",
    "\n",
    "    def full(self):\n",
    "        return True;\n",
    "\n",
    "    def exec(self, case: Iterable):\n",
    "        terminal = self.data\n",
    "        return case[terminal.symbol]\n",
    "\n",
    "    def node_count(self):\n",
    "        return 1\n",
    "\n",
    "    def get_node_at(self, pos, pointer = 0):\n",
    "        return None, pointer\n",
    "        \n",
    "    def set_node_at(self, pos, node: Node, pointer = 0):\n",
    "        return None, pointer\n",
    "\n",
    "    def prune(self, depth = 1, max_depth = MAX_DEPTH):\n",
    "        return\n",
    "\n",
    "    def print(self):\n",
    "        print(self.to_pretty_str())\n",
    "        \n",
    "    def to_pretty_str(self, depth = 0):\n",
    "        return self.data.symbol\n",
    "        \n",
    "    def to_str(self, depth = 0):\n",
    "        return self.data.symbol     "
   ]
  },
  {
   "cell_type": "markdown",
   "id": "7c963beb-3144-4840-8dea-7d44305faa14",
   "metadata": {},
   "source": [
    "## Initial Population Generation"
   ]
  },
  {
   "cell_type": "code",
   "execution_count": 10,
   "id": "0c49540b-11de-43e6-befc-9ae3e68d060a",
   "metadata": {},
   "outputs": [],
   "source": [
    "def grow(node: Node, depth: int = 1, max_depth = 3):\n",
    "    TERMINAL = 0;\n",
    "    FUNCTION = 1;\n",
    "    \n",
    "    primitive = random.choice([0,1])\n",
    "\n",
    "    if node.full(): return\n",
    "\n",
    "    if(primitive == TERMINAL or depth >= max_depth):\n",
    "        child = Leaf(random.choice(terminal_set))\n",
    "        node.add_children(child)\n",
    "        if not node.full():\n",
    "            grow(node, depth, max_depth)\n",
    "    \n",
    "    if(primitive == FUNCTION and depth < max_depth):\n",
    "        child = Node(random.choice(function_set))\n",
    "        node.add_children(child)\n",
    "        grow(child, depth + 1, max_depth)\n",
    "        if not node.full():\n",
    "            grow(node, depth, max_depth)"
   ]
  },
  {
   "cell_type": "code",
   "execution_count": 11,
   "id": "44690456-6061-4c63-881b-8d68dc8f8ca7",
   "metadata": {},
   "outputs": [],
   "source": [
    "def is_duplicate(population: [str], indiv: Node) -> bool:\n",
    "    for i in population:\n",
    "        if i == indiv.to_str(): return True\n",
    "    return False"
   ]
  },
  {
   "cell_type": "code",
   "execution_count": 12,
   "id": "4124ca28-ee8e-4191-ba00-dde2486c4001",
   "metadata": {},
   "outputs": [],
   "source": [
    "def init_population(size = 50, method = 'grow') -> ([Node], []):\n",
    "    population = []\n",
    "    population_expressions = []\n",
    "    \n",
    "    for i in range(size):\n",
    "        \n",
    "        indiv = init_individual(method)\n",
    "        \n",
    "        while(is_duplicate(population_expressions, indiv)):\n",
    "            indiv = init_individual(method)\n",
    "            \n",
    "        population.append(indiv)\n",
    "        population_expressions.append(indiv.to_str())\n",
    "            \n",
    "    return population"
   ]
  },
  {
   "cell_type": "code",
   "execution_count": 13,
   "id": "8070a14b-6352-4b88-8f93-2b3c359a564f",
   "metadata": {},
   "outputs": [],
   "source": [
    "def init_individual(method = 'grow', leaf_root: bool = False):\n",
    "    roots = [ \n",
    "        Node(random.choice(function_set))\n",
    "    ]\n",
    "\n",
    "    if leaf_root: roots.append(Leaf(random.choice(terminal_set)))\n",
    "    \n",
    "    individual = random.choice(roots)\n",
    "    match method:\n",
    "        case 'grow':\n",
    "            grow(individual)\n",
    "            return individual\n",
    "        case _:\n",
    "            pass"
   ]
  },
  {
   "cell_type": "markdown",
   "id": "fc26ae39-9d60-4723-aa95-9dd7731bdde3",
   "metadata": {},
   "source": [
    "# Execution"
   ]
  },
  {
   "cell_type": "markdown",
   "id": "495e1b2a-d553-41e8-8843-8e60a86cca2b",
   "metadata": {
    "jp-MarkdownHeadingCollapsed": true
   },
   "source": [
    "## Fitness Cases (Dataset)"
   ]
  },
  {
   "cell_type": "code",
   "execution_count": 14,
   "id": "ea386fec-f4ab-46b6-b02c-807004bc2945",
   "metadata": {},
   "outputs": [],
   "source": [
    "dataset_url = \"192_vineyard.tsv\"\n",
    "\n",
    "cases = pd.read_csv(dataset_url, sep = '\\t')\n",
    "\n",
    "cases.columns = ['x1', 'x2', 'y']"
   ]
  },
  {
   "cell_type": "code",
   "execution_count": 15,
   "id": "c45a997f-d60a-4e64-bf68-64bff77afe09",
   "metadata": {},
   "outputs": [
    {
     "data": {
      "text/html": [
       "<div>\n",
       "<style scoped>\n",
       "    .dataframe tbody tr th:only-of-type {\n",
       "        vertical-align: middle;\n",
       "    }\n",
       "\n",
       "    .dataframe tbody tr th {\n",
       "        vertical-align: top;\n",
       "    }\n",
       "\n",
       "    .dataframe thead th {\n",
       "        text-align: right;\n",
       "    }\n",
       "</style>\n",
       "<table border=\"1\" class=\"dataframe\">\n",
       "  <thead>\n",
       "    <tr style=\"text-align: right;\">\n",
       "      <th></th>\n",
       "      <th>x1</th>\n",
       "      <th>x2</th>\n",
       "      <th>y</th>\n",
       "    </tr>\n",
       "  </thead>\n",
       "  <tbody>\n",
       "    <tr>\n",
       "      <th>0</th>\n",
       "      <td>1.0</td>\n",
       "      <td>5.0</td>\n",
       "      <td>9.5</td>\n",
       "    </tr>\n",
       "    <tr>\n",
       "      <th>1</th>\n",
       "      <td>3.0</td>\n",
       "      <td>8.0</td>\n",
       "      <td>17.5</td>\n",
       "    </tr>\n",
       "    <tr>\n",
       "      <th>2</th>\n",
       "      <td>3.0</td>\n",
       "      <td>11.0</td>\n",
       "      <td>18.0</td>\n",
       "    </tr>\n",
       "  </tbody>\n",
       "</table>\n",
       "</div>"
      ],
      "text/plain": [
       "    x1    x2     y\n",
       "0  1.0   5.0   9.5\n",
       "1  3.0   8.0  17.5\n",
       "2  3.0  11.0  18.0"
      ]
     },
     "execution_count": 15,
     "metadata": {},
     "output_type": "execute_result"
    }
   ],
   "source": [
    "cases.head(3)"
   ]
  },
  {
   "cell_type": "code",
   "execution_count": 16,
   "id": "9cd3702f-7656-4a1d-af8f-b449fb68dfd4",
   "metadata": {},
   "outputs": [
    {
     "data": {
      "text/plain": [
       "1.0"
      ]
     },
     "execution_count": 16,
     "metadata": {},
     "output_type": "execute_result"
    }
   ],
   "source": [
    "cases.iloc[0]['x1']"
   ]
  },
  {
   "cell_type": "markdown",
   "id": "988b32e2-97fc-4650-b86e-769d7c4419eb",
   "metadata": {
    "jp-MarkdownHeadingCollapsed": true
   },
   "source": [
    "## Primitive Sets"
   ]
  },
  {
   "cell_type": "code",
   "execution_count": 17,
   "id": "4ae8ab6e-4dc8-4708-8688-e043b3e1f817",
   "metadata": {},
   "outputs": [],
   "source": [
    "terminal_set = [Terminal('x1'), Terminal('x2')]"
   ]
  },
  {
   "cell_type": "code",
   "execution_count": 18,
   "id": "f1972c51-9228-4121-af1f-7a2a87814a6b",
   "metadata": {},
   "outputs": [],
   "source": [
    "def add(*args): return sum(args)"
   ]
  },
  {
   "cell_type": "code",
   "execution_count": 19,
   "id": "62c2ef9f-2c31-4d4b-81fe-04b7d8357eab",
   "metadata": {},
   "outputs": [],
   "source": [
    "def minus(minuend, subtrahend): return minuend - subtrahend"
   ]
  },
  {
   "cell_type": "code",
   "execution_count": 20,
   "id": "b0355eaa-e649-49b5-a939-e8e9589ff32d",
   "metadata": {},
   "outputs": [],
   "source": [
    "def mul(*args): return reduce(lambda x, y: x * y, args)"
   ]
  },
  {
   "cell_type": "code",
   "execution_count": 21,
   "id": "3f9f0072-4b7e-47a0-9014-4368b094860b",
   "metadata": {},
   "outputs": [],
   "source": [
    "def div(num, den): return 1 if den == 0 else num / den"
   ]
  },
  {
   "cell_type": "code",
   "execution_count": 22,
   "id": "5345cc19-d16a-4c3f-810a-c23d14dfde31",
   "metadata": {},
   "outputs": [],
   "source": [
    "function_set = [\n",
    "    Func('+', 2, add), \n",
    "    Func('-', 2, minus), \n",
    "    Func('*', 2, mul), \n",
    "    Func('/', 2, div)]"
   ]
  },
  {
   "cell_type": "markdown",
   "id": "1b4389b7-d966-460c-9f0e-53bcd20ea2dc",
   "metadata": {
    "jp-MarkdownHeadingCollapsed": true
   },
   "source": [
    "## Fitness Calculation"
   ]
  },
  {
   "cell_type": "code",
   "execution_count": 23,
   "id": "a62c8421-0dc6-448f-8d23-c9593af3df43",
   "metadata": {},
   "outputs": [],
   "source": [
    "def raw_fitness(prog: Node, cases: Iterable):\n",
    "    fitness = 0;\n",
    "    for i, case in cases.iterrows():\n",
    "        fitness += abs(prog.exec(case) - case['y'])\n",
    "    return fitness;"
   ]
  },
  {
   "cell_type": "code",
   "execution_count": 24,
   "id": "41c51c33-b684-48a7-87f4-8aedaca59a58",
   "metadata": {},
   "outputs": [],
   "source": [
    "def get_best_fitness(pop: [Node], cases: Iterable):\n",
    "    best_fitness = raw_fitness(pop[0], cases)\n",
    "    best_prog = pop[0]\n",
    "    \n",
    "    for prog in pop[1:]:\n",
    "        fitness = raw_fitness(prog, cases)\n",
    "\n",
    "        if fitness < best_fitness:\n",
    "            best_fitness = fitness\n",
    "            best_prog = prog\n",
    "    return best_fitness, best_prog"
   ]
  },
  {
   "cell_type": "markdown",
   "id": "2f8c494a-0e56-4ceb-b870-519df3d32bd8",
   "metadata": {
    "jp-MarkdownHeadingCollapsed": true
   },
   "source": [
    "## Selection"
   ]
  },
  {
   "cell_type": "code",
   "execution_count": 25,
   "id": "22321b98-6a1c-4fff-8166-217df807d624",
   "metadata": {},
   "outputs": [],
   "source": [
    "def tournament_select(population: [Node], cases, size = 2) -> Node:\n",
    "    programs = random.choices(population, k = size)\n",
    "    fitness = [0] * size\n",
    "    for i, prog in enumerate(programs):\n",
    "        fitness[i] = raw_fitness(prog, cases)\n",
    "        \n",
    "    selected_index = np.array(fitness, dtype=int).argsort()[0]\n",
    "    return programs[selected_index]\n",
    "        "
   ]
  },
  {
   "cell_type": "markdown",
   "id": "5c73c4eb-5bd2-4b00-a7ef-4c2b98c6680a",
   "metadata": {
    "jp-MarkdownHeadingCollapsed": true
   },
   "source": [
    "## Genetic Operators"
   ]
  },
  {
   "cell_type": "code",
   "execution_count": 26,
   "id": "ccfb8c25-8958-4023-acf2-97971ce55a41",
   "metadata": {},
   "outputs": [],
   "source": [
    "def crossover(parent1: Node, parent2: Node) -> [Node]:\n",
    "    offspring1 = copy.deepcopy(parent1);\n",
    "    offspring2 = copy.deepcopy(parent2);\n",
    "\n",
    "    fragment1_pos = random.randrange(1, offspring1.node_count())\n",
    "    fragment2_pos = random.randrange(1, offspring2.node_count())\n",
    "\n",
    "    fragment1 = offspring1.get_node_at(fragment1_pos)[0]\n",
    "    fragment2 = offspring2.get_node_at(fragment2_pos)[0]\n",
    "\n",
    "    offspring2.set_node_at(fragment2_pos, fragment1)\n",
    "    offspring1.set_node_at(fragment1_pos, fragment2)\n",
    "\n",
    "    return [offspring1, offspring2]"
   ]
  },
  {
   "cell_type": "code",
   "execution_count": 27,
   "id": "22616061-51ff-48be-8aba-9435c5bdf7f8",
   "metadata": {},
   "outputs": [],
   "source": [
    "def mutate(parent: Node) -> Node:\n",
    "    mutant = copy.deepcopy(parent);\n",
    "    \n",
    "    point = random.randrange(1, mutant.node_count());\n",
    "\n",
    "    fragment = init_individual(method='grow', leaf_root=True)\n",
    "\n",
    "    mutant.set_node_at(point, fragment)\n",
    "\n",
    "    return mutant"
   ]
  },
  {
   "cell_type": "markdown",
   "id": "b8fa3b44-a76c-4a1b-8b4a-6cf2756f8968",
   "metadata": {
    "jp-MarkdownHeadingCollapsed": true
   },
   "source": [
    "## Evolution"
   ]
  },
  {
   "cell_type": "code",
   "execution_count": 28,
   "id": "a002355f-1e0a-40a5-be81-9a221346b83a",
   "metadata": {},
   "outputs": [],
   "source": [
    "operators = ['crossover', 'mutation']"
   ]
  },
  {
   "cell_type": "code",
   "execution_count": 29,
   "id": "71b2c358-b810-4318-ac11-489fda3777a0",
   "metadata": {},
   "outputs": [],
   "source": [
    "def gen_next_population(population: [Node]) -> [Node]:\n",
    "    next_population = []\n",
    "\n",
    "    while len(next_population) < POPULATION_SIZE:\n",
    "        operator = random.choices(operators, weights=APPLICATION_RATES)\n",
    "        \n",
    "        match operator[0]:\n",
    "            case 'crossover':\n",
    "                parent1 = tournament_select(population, cases, size = TOURNAMENT_SIZE)\n",
    "                parent2 = tournament_select(population, cases, size = TOURNAMENT_SIZE)\n",
    "\n",
    "                offsprings = crossover(parent1, parent2)\n",
    "\n",
    "                if(offsprings[0].is_fully_deep()): offsprings[0].prune()\n",
    "                if(offsprings[1].is_fully_deep()): offsprings[1].prune()\n",
    "                    \n",
    "                next_population.append(offsprings[0])\n",
    "\n",
    "                if len(next_population) == POPULATION_SIZE : break\n",
    "                    \n",
    "                else: next_population.append(offsprings[1])\n",
    "            case 'mutation':\n",
    "                parent = tournament_select(population, cases, size = TOURNAMENT_SIZE)\n",
    "\n",
    "                mutant = mutate(parent)\n",
    "\n",
    "                if(mutant.is_fully_deep()): mutant.prune()\n",
    "\n",
    "                next_population.append(mutant)\n",
    "    return next_population\n",
    "        "
   ]
  },
  {
   "cell_type": "code",
   "execution_count": 30,
   "id": "79f36357-a5d6-4559-846c-2b7bc94b875a",
   "metadata": {},
   "outputs": [],
   "source": [
    "def run():\n",
    "    population = init_population()\n",
    "\n",
    "    # for p in population: print(p.to_str())\n",
    "    \n",
    "    for i in range(GENERATIONS):\n",
    "        best_fitness, best_prog = get_best_fitness(population, cases)\n",
    "\n",
    "        print(f\"Generation: {i}; |P|: {len(population)} Best fitness: {best_fitness}\")\n",
    "        print(best_prog.to_str())\n",
    "        print()\n",
    "    \n",
    "        \n",
    "        if best_fitness <= FITNESS_THRESHOLD:\n",
    "            best_prog.print()\n",
    "            break\n",
    "            \n",
    "        population = gen_next_population(population);"
   ]
  },
  {
   "cell_type": "markdown",
   "id": "2b109d39-28b9-4c12-be2e-95910883f762",
   "metadata": {},
   "source": [
    "## Run"
   ]
  },
  {
   "cell_type": "code",
   "execution_count": 34,
   "id": "b37a5634-7f66-4499-a2c5-82c43b93b78c",
   "metadata": {
    "scrolled": true
   },
   "outputs": [
    {
     "name": "stdout",
     "output_type": "stream",
     "text": [
      "Generation: 0; |P|: 50 Best fitness: 149.5\n",
      "+ ( x2, x2 )\n",
      "\n",
      "Generation: 1; |P|: 500 Best fitness: 141.5\n",
      "+ ( * ( x1, / ( x2, x1 ) ), x2 )\n",
      "\n",
      "Generation: 2; |P|: 500 Best fitness: 141.5\n",
      "+ ( / ( x1, / ( x1, x2 ) ), x2 )\n",
      "\n",
      "Generation: 3; |P|: 500 Best fitness: 141.5\n",
      "- ( * ( x1, / ( x2, x1 ) ), - ( - ( x2, x2 ), x2 ) )\n",
      "\n",
      "Generation: 4; |P|: 500 Best fitness: 144.5\n",
      "+ ( - ( x2, - ( + ( x1, / ( x2, x2 ) ), x2 ) ), x1 )\n",
      "\n",
      "Generation: 5; |P|: 500 Best fitness: 130.0\n",
      "+ ( + ( x1, x2 ), * ( / ( x2, + ( x1, x1 ) ), x1 ) )\n",
      "\n",
      "Generation: 6; |P|: 500 Best fitness: 141.5\n",
      "+ ( * ( / ( x2, x1 ), x1 ), x2 )\n",
      "\n",
      "Generation: 7; |P|: 500 Best fitness: 142.84219160956\n",
      "+ ( / ( + ( + ( / ( x1, x2 ), x2 ), x1 ), x1 ), + ( x2, x1 ) )\n",
      "\n",
      "Generation: 8; |P|: 500 Best fitness: 130.34523393273395\n",
      "+ ( x2, + ( / ( x2, + ( x1, x1 ) ), + ( x1, x1 ) ) )\n",
      "\n",
      "Generation: 9; |P|: 500 Best fitness: 143.7080638646886\n",
      "+ ( x2, + ( x2, / ( - ( x1, x2 ), x2 ) ) )\n",
      "\n",
      "Generation: 10; |P|: 500 Best fitness: 143.7080638646886\n",
      "+ ( x2, + ( x2, / ( - ( x1, x2 ), x2 ) ) )\n",
      "\n",
      "Generation: 11; |P|: 500 Best fitness: 141.5\n",
      "+ ( x2, * ( / ( x2, x1 ), x1 ) )\n",
      "\n",
      "Generation: 12; |P|: 500 Best fitness: 141.5\n",
      "+ ( * ( / ( x2, x1 ), x1 ), x2 )\n",
      "\n",
      "Generation: 13; |P|: 500 Best fitness: 141.5\n",
      "+ ( * ( / ( x2, x1 ), x1 ), x2 )\n",
      "\n",
      "Generation: 14; |P|: 500 Best fitness: 141.5\n",
      "+ ( * ( / ( x2, x1 ), x1 ), x2 )\n",
      "\n",
      "Generation: 15; |P|: 500 Best fitness: 141.5\n",
      "+ ( * ( / ( x2, x1 ), x1 ), x2 )\n",
      "\n",
      "Generation: 16; |P|: 500 Best fitness: 141.5\n",
      "+ ( * ( / ( x2, x1 ), x1 ), x2 )\n",
      "\n",
      "Generation: 17; |P|: 500 Best fitness: 143.7080638646886\n",
      "+ ( x2, - ( / ( x1, x2 ), - ( / ( x2, x2 ), x2 ) ) )\n",
      "\n",
      "Generation: 18; |P|: 500 Best fitness: 143.7080638646886\n",
      "+ ( - ( / ( x1, x2 ), - ( / ( x2, x2 ), x2 ) ), x2 )\n",
      "\n",
      "Generation: 19; |P|: 500 Best fitness: 141.41367636650466\n",
      "+ ( - ( / ( x2, * ( - ( x2, * ( x1, x2 ) ), - ( / ( x2, x1 ), - ( x2, x1 ) ) ) ), - ( / ( x2, x2 ), x2 ) ), x2 )\n",
      "\n",
      "Generation: 20; |P|: 500 Best fitness: 143.7080638646886\n",
      "+ ( - ( / ( x1, x2 ), - ( / ( x2, x2 ), x2 ) ), x2 )\n",
      "\n",
      "Generation: 21; |P|: 500 Best fitness: 142.60819742273011\n",
      "+ ( x2, - ( / ( / ( x1, x2 ), * ( - ( / ( x2, x1 ), x2 ), x2 ) ), - ( / ( x2, x2 ), x2 ) ) )\n",
      "\n",
      "Generation: 22; |P|: 500 Best fitness: 142.60819742273011\n",
      "+ ( x2, - ( / ( / ( x1, x2 ), * ( - ( / ( x2, x1 ), x2 ), x2 ) ), - ( / ( x2, x2 ), x2 ) ) )\n",
      "\n",
      "Generation: 23; |P|: 500 Best fitness: 142.03429336780135\n",
      "+ ( - ( / ( / ( x2, x1 ), * ( x2, - ( * ( x2, x1 ), / ( x2, x1 ) ) ) ), - ( / ( x2, x2 ), x2 ) ), x2 )\n",
      "\n",
      "Generation: 24; |P|: 500 Best fitness: 142.95988673349353\n",
      "+ ( - ( / ( * ( / ( x1, - ( x2, x1 ) ), x2 ), x2 ), - ( / ( x2, x2 ), x2 ) ), x2 )\n",
      "\n",
      "Generation: 25; |P|: 500 Best fitness: 138.51659220896065\n",
      "+ ( - ( / ( x2, * ( - ( x2, - ( x2, x2 ) ), x2 ) ), - ( / ( x2, / ( - ( x2, x2 ), * ( x1, x2 ) ) ), x2 ) ), x2 )\n",
      "\n",
      "Generation: 26; |P|: 500 Best fitness: 141.95694793496958\n",
      "+ ( - ( / ( / ( x2, x2 ), * ( x2, - ( * ( x1, x2 ), / ( x2, x1 ) ) ) ), - ( / ( x2, x2 ), x2 ) ), x2 )\n",
      "\n",
      "Generation: 27; |P|: 500 Best fitness: 141.5\n",
      "+ ( - ( x1, - ( / ( x2, / ( x2, x1 ) ), x2 ) ), x2 )\n",
      "\n",
      "Generation: 28; |P|: 500 Best fitness: 139.4955011407013\n",
      "+ ( - ( / ( x2, * ( x2, - ( x1, / ( x2, x1 ) ) ) ), - ( / ( x2, x2 ), x2 ) ), x2 )\n",
      "\n",
      "Generation: 29; |P|: 500 Best fitness: 141.7131448229555\n",
      "+ ( - ( / ( x2, * ( x2, - ( * ( x2, x1 ), x2 ) ) ), - ( / ( x2, x2 ), x2 ) ), + ( / ( x1, x2 ), x2 ) )\n",
      "\n",
      "Generation: 30; |P|: 500 Best fitness: 139.8689384493169\n",
      "+ ( - ( / ( x2, * ( x2, - ( * ( x1, x1 ), x2 ) ) ), - ( / ( x2, x2 ), x2 ) ), + ( / ( x1, x2 ), x2 ) )\n",
      "\n",
      "Generation: 31; |P|: 500 Best fitness: 141.7131448229555\n",
      "+ ( - ( / ( x2, * ( x2, - ( * ( x1, x2 ), x2 ) ) ), - ( / ( x2, x2 ), x2 ) ), + ( / ( x1, x2 ), x2 ) )\n",
      "\n",
      "Generation: 32; |P|: 500 Best fitness: 141.7131448229555\n",
      "+ ( - ( / ( x2, * ( x2, - ( * ( x1, x2 ), x2 ) ) ), - ( / ( x2, x2 ), x2 ) ), + ( / ( x1, x2 ), x2 ) )\n",
      "\n",
      "Generation: 33; |P|: 500 Best fitness: 142.64569754020042\n",
      "+ ( - ( / ( / ( / ( x2, * ( x1, x2 ) ), x2 ), * ( x2, - ( * ( x1, x1 ), x2 ) ) ), - ( / ( x2, x2 ), x2 ) ), + ( / ( x1, x2 ), x2 ) )\n",
      "\n",
      "Generation: 34; |P|: 500 Best fitness: 139.8689384493169\n",
      "+ ( - ( / ( x2, * ( x2, - ( * ( x1, x1 ), x2 ) ) ), - ( / ( x2, x2 ), x2 ) ), + ( / ( x1, x2 ), x2 ) )\n",
      "\n",
      "Generation: 35; |P|: 500 Best fitness: 141.7131448229555\n",
      "+ ( - ( / ( x2, * ( x2, - ( * ( x2, x1 ), x2 ) ) ), - ( / ( x2, x2 ), x2 ) ), + ( / ( x1, x2 ), x2 ) )\n",
      "\n",
      "Generation: 36; |P|: 500 Best fitness: 142.42356976106615\n",
      "+ ( - ( / ( - ( / ( x1, x2 ), / ( x2, x2 ) ), * ( x2, - ( x2, / ( x2, x1 ) ) ) ), - ( / ( x2, x2 ), x2 ) ), x2 )\n",
      "\n",
      "Generation: 37; |P|: 500 Best fitness: 138.5\n",
      "+ ( - ( / ( - ( x2, x2 ), * ( x2, x2 ) ), - ( / ( x2, - ( x1, x1 ) ), + ( / ( x1, / ( x1, x2 ) ), * ( - ( x2, x2 ), x1 ) ) ) ), x2 )\n",
      "\n",
      "Generation: 38; |P|: 500 Best fitness: 142.0717476249336\n",
      "+ ( - ( / ( x2, * ( x2, - ( * ( x2, x1 ), x2 ) ) ), - ( / ( x2, x2 ), x2 ) ), x2 )\n",
      "\n",
      "Generation: 39; |P|: 500 Best fitness: 139.76010407669995\n",
      "+ ( - ( / ( / ( / ( x1, x1 ), x2 ), - ( x1, - ( / ( x2, x1 ), / ( x1, x2 ) ) ) ), - ( / ( x2, x2 ), x2 ) ), x2 )\n",
      "\n",
      "Generation: 40; |P|: 500 Best fitness: 138.520342500017\n",
      "+ ( - ( / ( / ( / ( x2, - ( x1, x1 ) ), - ( / ( x2, x2 ), - ( x1, x2 ) ) ), * ( x2, x2 ) ), - ( / ( x2, x2 ), / ( * ( x2, x1 ), x1 ) ) ), x2 )\n",
      "\n",
      "Generation: 41; |P|: 500 Best fitness: 136.54316509277825\n",
      "+ ( - ( / ( - ( x2, + ( - ( x2, x1 ), x2 ) ), - ( / ( - ( x2, x1 ), * ( x1, x1 ) ), - ( - ( x2, x1 ), x2 ) ) ), - ( / ( / ( - ( x1, x1 ), * ( x1, x2 ) ), x2 ), x2 ) ), x2 )\n",
      "\n",
      "Generation: 42; |P|: 500 Best fitness: 139.71659220896063\n",
      "+ ( - ( / ( x2, * ( x2, x2 ) ), - ( / ( x2, x2 ), * ( * ( x1, / ( x2, x1 ) ), / ( x2, x2 ) ) ) ), x2 )\n",
      "\n",
      "Generation: 43; |P|: 500 Best fitness: 140.9428590857422\n",
      "+ ( + ( / ( - ( x1, x2 ), * ( x2, x2 ) ), / ( * ( x2, x1 ), x1 ) ), x2 )\n",
      "\n",
      "Generation: 44; |P|: 500 Best fitness: 139.8549711538156\n",
      "+ ( - ( / ( x2, - ( * ( + ( x2, x1 ), x2 ), - ( / ( x1, x1 ), / ( x2, x2 ) ) ) ), - ( / ( x2, x2 ), * ( * ( x1, / ( x2, x1 ) ), / ( x2, x2 ) ) ) ), x2 )\n",
      "\n",
      "Generation: 45; |P|: 500 Best fitness: 140.88613540237014\n",
      "+ ( + ( / ( - ( x1, / ( / ( x2, x1 ), / ( x1, x1 ) ) ), * ( x2, x2 ) ), / ( * ( x2, x1 ), x1 ) ), x2 )\n",
      "\n",
      "Generation: 46; |P|: 500 Best fitness: 139.04963498245345\n",
      "+ ( - ( / ( / ( - ( / ( x2, x2 ), - ( x2, x1 ) ), x2 ), * ( x1, x2 ) ), - ( / ( x2, / ( - ( x1, x1 ), * ( x2, x1 ) ) ), x2 ) ), x2 )\n",
      "\n",
      "Generation: 47; |P|: 500 Best fitness: 138.66393964326562\n",
      "+ ( - ( / ( / ( x1, x1 ), - ( / ( / ( x2, x1 ), / ( x2, x1 ) ), - ( / ( x2, x1 ), x2 ) ) ), - ( / ( x2, + ( * ( x1, x2 ), / ( x2, x2 ) ) ), x2 ) ), x2 )\n",
      "\n",
      "Generation: 48; |P|: 500 Best fitness: 138.27421333522605\n",
      "+ ( + ( / ( - ( / ( - ( x2, x1 ), x1 ), x2 ), * ( x2, - ( x1, x2 ) ) ), / ( * ( x2, x1 ), x1 ) ), - ( / ( / ( / ( - ( x2, x2 ), + ( x2, x2 ) ), - ( x1, - ( x1, x1 ) ) ), - ( x2, / ( / ( x1, x2 ), x2 ) ) ), - ( / ( x2, x2 ), x2 ) ) )\n",
      "\n",
      "Generation: 49; |P|: 500 Best fitness: 136.97595805733027\n",
      "+ ( + ( / ( - ( / ( - ( x1, x1 ), x1 ), x2 ), * ( x2, - ( x1, x2 ) ) ), / ( * ( x2, x1 ), x1 ) ), - ( / ( x1, - ( x2, / ( / ( x1, x2 ), x2 ) ) ), - ( / ( x2, x2 ), x2 ) ) )\n",
      "\n"
     ]
    }
   ],
   "source": [
    "run()"
   ]
  },
  {
   "cell_type": "code",
   "execution_count": null,
   "id": "853725b3-be8e-4244-be3e-17bab5b09904",
   "metadata": {},
   "outputs": [],
   "source": []
  }
 ],
 "metadata": {
  "kernelspec": {
   "display_name": "Python 3 (ipykernel)",
   "language": "python",
   "name": "python3"
  },
  "language_info": {
   "codemirror_mode": {
    "name": "ipython",
    "version": 3
   },
   "file_extension": ".py",
   "mimetype": "text/x-python",
   "name": "python",
   "nbconvert_exporter": "python",
   "pygments_lexer": "ipython3",
   "version": "3.12.7"
  }
 },
 "nbformat": 4,
 "nbformat_minor": 5
}
